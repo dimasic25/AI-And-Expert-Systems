{
 "cells": [
  {
   "cell_type": "code",
   "execution_count": 253,
   "id": "initial_id",
   "metadata": {
    "collapsed": true,
    "ExecuteTime": {
     "end_time": "2023-11-19T10:19:29.186970800Z",
     "start_time": "2023-11-19T10:19:28.899586400Z"
    }
   },
   "outputs": [],
   "source": [
    "import numpy as np\n",
    "import pandas as pd\n",
    "from sklearn.feature_extraction.text import CountVectorizer, TfidfTransformer\n",
    "from sklearn.datasets import fetch_20newsgroups"
   ]
  },
  {
   "cell_type": "code",
   "execution_count": 254,
   "outputs": [],
   "source": [
    "# 3. Загрузка обучающей и тестовой выборки\n",
    "remove = ('headers', 'footers', 'quotes')\n",
    "\n",
    "all_categories = ['comp.windows.x', 'rec.sport.baseball', 'rec.sport.hockey']\n",
    "train_bunch = fetch_20newsgroups(subset='train', shuffle=True, random_state=42, categories=all_categories,remove=remove)\n",
    "test_bunch = fetch_20newsgroups(subset='test', shuffle=True, random_state=42, categories=all_categories, remove=remove)\n",
    "\n",
    "\n",
    "def get_sample(bunch, category_idx):\n",
    "    for idx, target in enumerate(bunch.target):\n",
    "        if target == category_idx:\n",
    "            return bunch.data[idx]"
   ],
   "metadata": {
    "collapsed": false,
    "ExecuteTime": {
     "end_time": "2023-11-19T10:19:31.090865300Z",
     "start_time": "2023-11-19T10:19:28.899586400Z"
    }
   },
   "id": "20e1a4a47beaa45d"
  },
  {
   "cell_type": "code",
   "execution_count": 255,
   "outputs": [
    {
     "data": {
      "text/plain": "'See subject. An opportunity for sales-people (-persons? -entities?).\\n\\nI am looking for a commercial/PD graphics editor with fairly limited\\nabilities that runs under X and preferably uses Motif widgets. It must\\nrun on HP-UX version 9, either with or without the PEX extension. The\\nsort of things I want are simple drawing, resizing and moving of objects\\nsuch as lines, rectangles and text. Bounding rectangle operations are\\nsufficient for object selection. Ideally it should also allow the\\ncreation and placement of more complex objects such as widgets (e.g.\\ntext entry fields or labels), but this is not mandatory.\\n\\nDoes anyone have such an animal? If you do, please mail me with details\\nincluding price (especially run-time licensing since it must be\\nincluded in a product). Alternatively, send glossies to me at Logica,\\n68 Newman Street, London W1, including technical info please. For PD\\nstuff, I have some effort that could be put into porting.\\n\\nThanks for any help,\\nNicholas Young.'"
     },
     "execution_count": 255,
     "metadata": {},
     "output_type": "execute_result"
    }
   ],
   "source": [
    "# 4. Вывод по одному документу каждого из классов\n",
    "get_sample(train_bunch, all_categories.index('comp.windows.x'))"
   ],
   "metadata": {
    "collapsed": false,
    "ExecuteTime": {
     "end_time": "2023-11-19T10:19:31.102494700Z",
     "start_time": "2023-11-19T10:19:31.090865300Z"
    }
   },
   "id": "dbef138466c43f54"
  },
  {
   "cell_type": "code",
   "execution_count": 256,
   "outputs": [
    {
     "data": {
      "text/plain": "\"I'm looking for software (hopefully free and runs on Unix box) which will\\nkeep track of statistics for my company softball team (batting avg. etc.).\\n\\nIf you know of any please post or respond to me by e-mail. Many thanks.\\n\""
     },
     "execution_count": 256,
     "metadata": {},
     "output_type": "execute_result"
    }
   ],
   "source": [
    "get_sample(train_bunch, all_categories.index('rec.sport.baseball'))"
   ],
   "metadata": {
    "collapsed": false,
    "ExecuteTime": {
     "end_time": "2023-11-19T10:19:31.102494700Z",
     "start_time": "2023-11-19T10:19:31.101986600Z"
    }
   },
   "id": "4a85c64b405121da"
  },
  {
   "cell_type": "code",
   "execution_count": 257,
   "outputs": [
    {
     "data": {
      "text/plain": "'Everyone keeps talking about European expansion by 2010 thinking\\nwishful thoughts, but being totally off the ball.\\n\\nThe league format we use here is incompatible with that in Europe.\\n(for those that don\\'t know, the best teams from lower divisions get\\npromoted and the worst get demoted).\\n\\nWould European fans put up with our \"if you\\'ve paid, you can play\" \\nattitude??\\n\\nHow long would they support teams that are run on Ranger-based \\ncorporate thinking (I use the term lightly).  (We don\\'t need a good\\nproduct because these duffuses in NYC would fill the arena for Ottawa\\'s\\nrecord every year......1940!! haha (sorry, had ta say it)).\\n\\nIf hockey (and other pro sports) had a similar system to Europe, maybe\\nteams like the Rangers would be forced to compete (or get demoted the fourth \\ndivision).  We\\'d have many more teams...centres that aren\\'t as big (like\\nHalifax or Adirondack....ok, so Halifax isn\\'t a good example) would \\neventually get promoted, and every team would be somewhat competetive within\\nits own division (unlike Ottawa, SJ, Edmonton, etc.). Fans would eventually\\nget rewarded for their loyalty (or penalized for their neglect), and the\\nleague would be more interesting and dynamic every year because of the influx\\nof newly promoted teams (and the Halifax Citadels win the Stanley Cup...I can\\ndream, can\\'t I??)\\n\\nLook at British (or any European) soccer as an example (they never have fan\\nproblems).\\n\\nJust someone who thinks our system really sucks\\n\\nBarfly\\n\\n(feel free to flame me, my account ends today...hahahaha)'"
     },
     "execution_count": 257,
     "metadata": {},
     "output_type": "execute_result"
    }
   ],
   "source": [
    "get_sample(train_bunch, all_categories.index('rec.sport.hockey'))"
   ],
   "metadata": {
    "collapsed": false,
    "ExecuteTime": {
     "end_time": "2023-11-19T10:19:31.110296300Z",
     "start_time": "2023-11-19T10:19:31.102494700Z"
    }
   },
   "id": "3fed654a45278387"
  },
  {
   "cell_type": "code",
   "execution_count": 258,
   "outputs": [
    {
     "name": "stderr",
     "output_type": "stream",
     "text": [
      "[nltk_data] Downloading package punkt to\n",
      "[nltk_data]     C:\\Users\\dimon\\AppData\\Roaming\\nltk_data...\n",
      "[nltk_data]   Package punkt is already up-to-date!\n"
     ]
    }
   ],
   "source": [
    "# 5. Стемминг\n",
    "import nltk\n",
    "from nltk.stem import *\n",
    "from nltk import word_tokenize\n",
    "\n",
    "nltk.download('punkt')\n",
    "\n",
    "\n",
    "def stemming(documents: list[str]) -> list[str]:\n",
    "    porter_stemmer = PorterStemmer()\n",
    "    stem = []\n",
    "    for document in documents:\n",
    "        nltk_tokens = word_tokenize(document)\n",
    "        line = ''\n",
    "        for word in nltk_tokens:\n",
    "            line += ' ' + porter_stemmer.stem(word)\n",
    "        stem.append(line)\n",
    "    return stem\n",
    "\n",
    "train_tokenized = stemming(train_bunch.data)\n",
    "test_tokenized = stemming(test_bunch.data)"
   ],
   "metadata": {
    "collapsed": false,
    "ExecuteTime": {
     "end_time": "2023-11-19T10:19:40.067704700Z",
     "start_time": "2023-11-19T10:19:31.125942Z"
    }
   },
   "id": "56204a3927095f3e"
  },
  {
   "cell_type": "code",
   "execution_count": 259,
   "outputs": [
    {
     "data": {
      "text/plain": "[\" i 'm look for softwar ( hope free and run on unix box ) which will keep track of statist for my compani softbal team ( bat avg . etc. ) . if you know of ani pleas post or respond to me by e-mail . mani thank .\",\n ' i am look for a sourc of american leagu basebal stat for individu player in the same format as print in newspap , ie . i do not want to provid a list of player and get back nice print report for $ 35 a week . doe anyon know of such statist avail and an idea of the cost ?',\n \" everyon keep talk about european expans by 2010 think wish thought , but be total off the ball . the leagu format we use here is incompat with that in europ . ( for those that do n't know , the best team from lower divis get promot and the worst get demot ) . would european fan put up with our `` if you 've paid , you can play '' attitud ? ? how long would they support team that are run on ranger-bas corpor think ( i use the term lightli ) . ( we do n't need a good product becaus these duffus in nyc would fill the arena for ottawa' record everi year ...... 1940 ! ! haha ( sorri , had ta say it ) ) . if hockey ( and other pro sport ) had a similar system to europ , mayb team like the ranger would be forc to compet ( or get demot the fourth divis ) . we 'd have mani more team ... centr that are n't as big ( like halifax or adirondack .... ok , so halifax is n't a good exampl ) would eventu get promot , and everi team would be somewhat competet within it own divis ( unlik ottawa , sj , edmonton , etc. ) . fan would eventu get reward for their loyalti ( or penal for their neglect ) , and the leagu would be more interest and dynam everi year becaus of the influx of newli promot team ( and the halifax citadel win the stanley cup ... i can dream , ca n't i ? ? ) look at british ( or ani european ) soccer as an exampl ( they never have fan problem ) . just someon who think our system realli suck barfli ( feel free to flame me , my account end today ... hahahaha )\"]"
     },
     "execution_count": 259,
     "metadata": {},
     "output_type": "execute_result"
    }
   ],
   "source": [
    "# вывод 3 первых документов обучающих данных\n",
    "train_tokenized[:3]"
   ],
   "metadata": {
    "collapsed": false,
    "ExecuteTime": {
     "end_time": "2023-11-19T10:19:40.082025400Z",
     "start_time": "2023-11-19T10:19:40.067704700Z"
    }
   },
   "id": "1cfd92616a8d41e9"
  },
  {
   "cell_type": "code",
   "execution_count": 260,
   "outputs": [
    {
     "data": {
      "text/plain": "[\" i believ that phil esposito wa the first to wear # 77 when he play with the ranger in the '70 . thi wa the season that they put the ranger crest and `` modern-styl '' number on the jersey instead of the '' new york '' or `` ranger '' block letter and two-colour number . he took # 77 becaus the ranger alreadi had a # 7 . ( hockey night in canada made a big thing out of it , say it wa the biggest uniform style chang in a long time . thi wa befor pittsburgh and vancouv chang their colour . ) dwarf\",\n \" i 'm run hp-ux 8.07 with hp vue 2.01 and i need a hardcopi of the login window ( the one ask for login and password ) to includ in a manual . i have tri : xwd -display hostname:0 -root -out login.xwd from a login on a remot termin , but it doe n't work . xwd seem to wait for the window server , but the window server doe n't answer . ani suggest ? i must use xwd becaus i do n't have access to ftp and i ca n't obtain anoth program to grab the screen . thank in advanc nadia pitacco --\",\n \" first , pleas watch your line length . not everyon ha autowrap . second , franklin to the rescu ! here 's the list : player hr sb aaron 755 240 may 660 338 frobinson 586 204 rjackson 563 228 winfield 406 216 * dawson 377 304 * baylor 338 285 bobond 332 461 wynn 291 225 strawberri 280 201 * morgan 268 689 pinson 256 309 yount 235 247 * kgibson 208 253 * sandberg 205 297 * player mark with an * are still activ ; number through 1991 . that 's onli 15 ; the 16th is probabl rickey henderson , who wa list at 184 hr , 994 sb or georg brett , list as 186 sb , 291 hr . the surpris ? probabl reggi , bayor , and wynn for steal . mayb morgan ( to a lot of peopl ) for homer . i wa kind of surpris to realiz that sandberg ha that mani steal , though i wa n't surpris that the number wa mike jone | aix high-end develop | mjone @ donald.aix.kingston.ibm.com\"]"
     },
     "execution_count": 260,
     "metadata": {},
     "output_type": "execute_result"
    }
   ],
   "source": [
    "# вывод 3 первых документов тестовых данных\n",
    "test_tokenized[:3]"
   ],
   "metadata": {
    "collapsed": false,
    "ExecuteTime": {
     "end_time": "2023-11-19T10:19:40.082025400Z",
     "start_time": "2023-11-19T10:19:40.074740200Z"
    }
   },
   "id": "f0a6401b1d3c0d5f"
  },
  {
   "cell_type": "code",
   "execution_count": 261,
   "outputs": [],
   "source": [
    "columns = pd.MultiIndex.from_product([['Count', 'TF', 'TF-IDF'], ['Без стоп-слов', 'Со стоп-словами']])\n",
    "df_train = pd.DataFrame(columns=columns)\n",
    "df_test = pd.DataFrame(columns=columns)\n",
    "\n",
    "df_train_stem = pd.DataFrame(columns=columns)\n",
    "df_test_stem = pd.DataFrame(columns=columns)"
   ],
   "metadata": {
    "collapsed": false,
    "ExecuteTime": {
     "end_time": "2023-11-19T10:19:40.091619900Z",
     "start_time": "2023-11-19T10:19:40.082025400Z"
    }
   },
   "id": "671a830844f9b100"
  },
  {
   "cell_type": "code",
   "execution_count": 262,
   "outputs": [
    {
     "data": {
      "text/plain": "[('the', 15749),\n ('to', 7012),\n ('and', 5437),\n ('of', 5008),\n ('in', 4583),\n ('is', 3967),\n ('that', 3001),\n ('for', 2833),\n ('it', 2597),\n ('on', 2307),\n ('you', 2059),\n ('this', 2006),\n ('be', 1979),\n ('with', 1708),\n ('have', 1652),\n ('are', 1634),\n ('he', 1524),\n ('if', 1522),\n ('as', 1453),\n ('but', 1438)]"
     },
     "execution_count": 262,
     "metadata": {},
     "output_type": "execute_result"
    }
   ],
   "source": [
    "# train count\n",
    "\n",
    "vect = CountVectorizer(max_features=10000)\n",
    "train_data = vect.fit_transform(train_bunch.data)\n",
    "\n",
    "\n",
    "def get_20_freq_words(vect, data):\n",
    "    words = list(zip(vect.get_feature_names_out(), np.ravel(data.sum(axis=0))))\n",
    "    words.sort(key=lambda x: x[1], reverse=True)\n",
    "    return words[:20]\n",
    "\n",
    "\n",
    "count_column = get_20_freq_words(vect, train_data)\n",
    "df_train['Count', 'Без стоп-слов'] = count_column\n",
    "count_column"
   ],
   "metadata": {
    "collapsed": false,
    "ExecuteTime": {
     "end_time": "2023-11-19T10:19:40.360349900Z",
     "start_time": "2023-11-19T10:19:40.091619900Z"
    }
   },
   "id": "2acd44823af920a0"
  },
  {
   "cell_type": "code",
   "execution_count": 263,
   "outputs": [
    {
     "data": {
      "text/plain": "[('team', 679),\n ('game', 633),\n ('year', 629),\n ('file', 586),\n ('like', 582),\n ('10', 580),\n ('window', 573),\n ('edu', 544),\n ('use', 512),\n ('don', 502),\n ('just', 480),\n ('time', 466),\n ('new', 437),\n ('good', 434),\n ('think', 429),\n ('play', 427),\n ('season', 424),\n ('program', 417),\n ('games', 416),\n ('11', 415)]"
     },
     "execution_count": 263,
     "metadata": {},
     "output_type": "execute_result"
    }
   ],
   "source": [
    "# train count stop\n",
    "vect = CountVectorizer(max_features=10000, stop_words='english')\n",
    "dtm = vect.fit_transform(train_bunch.data)\n",
    "\n",
    "count_column_stop = get_20_freq_words(vect, dtm)\n",
    "df_train['Count', 'Со стоп-словами'] = count_column_stop\n",
    "count_column_stop"
   ],
   "metadata": {
    "collapsed": false,
    "ExecuteTime": {
     "end_time": "2023-11-19T10:19:40.607597400Z",
     "start_time": "2023-11-19T10:19:40.501187Z"
    }
   },
   "id": "b04882deedde53ba"
  },
  {
   "cell_type": "code",
   "execution_count": 264,
   "outputs": [
    {
     "data": {
      "text/plain": "[('the', 589.4840147265047),\n ('to', 282.9780269588262),\n ('and', 204.73973232096188),\n ('in', 181.95100839538162),\n ('of', 180.65052528156176),\n ('is', 151.84620034325926),\n ('that', 137.00256575679734),\n ('it', 117.94844823750009),\n ('for', 115.18977217608628),\n ('you', 97.72631057215757),\n ('this', 91.94123274499883),\n ('on', 90.5422925115908),\n ('have', 83.8896451423794),\n ('be', 79.4042202847746),\n ('with', 71.58514903092679),\n ('he', 68.66153507608368),\n ('but', 65.45399825662439),\n ('was', 64.89623089168877),\n ('if', 62.427980984910434),\n ('are', 60.70514880130126)]"
     },
     "execution_count": 264,
     "metadata": {},
     "output_type": "execute_result"
    }
   ],
   "source": [
    "# train tf\n",
    "\n",
    "def get_20_freq_words_idf(feature_names, tfidf_values):\n",
    "    result = []\n",
    "    word_weights = dict(zip(feature_names, tfidf_values))\n",
    "    sorted_words = sorted(word_weights.items(), key=lambda x: x[1], reverse=True)\n",
    "    for word, weight in sorted_words[:20]:\n",
    "        result.append((word, weight))\n",
    "    return result\n",
    "\n",
    "\n",
    "vectorizer = CountVectorizer(max_features=10000)\n",
    "dtm = vectorizer.fit_transform(train_bunch.data)\n",
    "tfidf = TfidfTransformer(use_idf=False).fit_transform(dtm)\n",
    "\n",
    "feature_names = vectorizer.get_feature_names_out()\n",
    "tfidf_values = tfidf.toarray().sum(axis=0)\n",
    "\n",
    "tf_column = get_20_freq_words_idf(feature_names, tfidf_values)\n",
    "df_train['TF', 'Без стоп-слов'] = tf_column\n",
    "tf_column"
   ],
   "metadata": {
    "collapsed": false,
    "ExecuteTime": {
     "end_time": "2023-11-19T10:19:40.910930100Z",
     "start_time": "2023-11-19T10:19:40.607597400Z"
    }
   },
   "id": "6aaf882af424fd2b"
  },
  {
   "cell_type": "code",
   "execution_count": 265,
   "outputs": [
    {
     "data": {
      "text/plain": "[('like', 54.59034267706766),\n ('game', 52.65391186175265),\n ('team', 50.23374990934391),\n ('just', 47.839597900758605),\n ('don', 46.667780397895164),\n ('year', 46.66093560424913),\n ('know', 45.38244213178166),\n ('think', 44.39222815673452),\n ('time', 36.49174208101818),\n ('good', 35.62187455720601),\n ('does', 34.76996463457239),\n ('window', 34.42979502162383),\n ('thanks', 33.545069408891216),\n ('games', 33.05600445722264),\n ('use', 28.892433198026094),\n ('players', 28.10991175375138),\n ('play', 27.022282354210148),\n ('season', 26.63108713464234),\n ('way', 25.574312213576814),\n ('did', 24.382018454599265)]"
     },
     "execution_count": 265,
     "metadata": {},
     "output_type": "execute_result"
    }
   ],
   "source": [
    "# train tf stop\n",
    "vectorizer = CountVectorizer(max_features=10000, stop_words='english')\n",
    "dtm = vectorizer.fit_transform(train_bunch.data)\n",
    "tfidf = TfidfTransformer(use_idf=False).fit_transform(dtm)\n",
    "\n",
    "feature_names = vectorizer.get_feature_names_out()\n",
    "tfidf_values = tfidf.toarray().sum(axis=0)\n",
    "\n",
    "tf_column_stop = get_20_freq_words_idf(feature_names, tfidf_values)\n",
    "df_train['TF', 'Со стоп-словами'] = tf_column_stop\n",
    "tf_column_stop"
   ],
   "metadata": {
    "collapsed": false,
    "ExecuteTime": {
     "end_time": "2023-11-19T10:19:41.221364200Z",
     "start_time": "2023-11-19T10:19:40.937991700Z"
    }
   },
   "id": "f23a2a132be51a4c"
  },
  {
   "cell_type": "code",
   "execution_count": 266,
   "outputs": [
    {
     "data": {
      "text/plain": "[('the', 214.36387605105372),\n ('to', 113.78471180759847),\n ('and', 87.3636242603679),\n ('of', 83.5045406913417),\n ('in', 81.71464861099017),\n ('is', 72.71056685601074),\n ('that', 67.62424697731576),\n ('it', 60.63404118880459),\n ('you', 57.61452297032909),\n ('for', 56.101337507476245),\n ('he', 52.38043107664733),\n ('on', 48.851522087063),\n ('this', 48.544997294911376),\n ('have', 46.82516631808222),\n ('be', 45.129856667459215),\n ('was', 44.487884132057964),\n ('with', 41.34900152421049),\n ('they', 39.69318535367601),\n ('but', 38.536211763990764),\n ('are', 38.119468736590726)]"
     },
     "execution_count": 266,
     "metadata": {},
     "output_type": "execute_result"
    }
   ],
   "source": [
    "# train tf-idf\n",
    "\n",
    "vectorizer = CountVectorizer(max_features=10000)\n",
    "dtm = vectorizer.fit_transform(train_bunch.data)\n",
    "tfidf = TfidfTransformer(use_idf=True).fit_transform(dtm)\n",
    "\n",
    "feature_names = vectorizer.get_feature_names_out()\n",
    "tfidf_values = tfidf.toarray().sum(axis=0)\n",
    "\n",
    "tf_idf = get_20_freq_words_idf(feature_names, tfidf_values)\n",
    "df_train['TF-IDF', 'Без стоп-слов'] = tf_idf\n",
    "tf_idf"
   ],
   "metadata": {
    "collapsed": false,
    "ExecuteTime": {
     "end_time": "2023-11-19T10:19:41.561334200Z",
     "start_time": "2023-11-19T10:19:41.236998200Z"
    }
   },
   "id": "600f10498f6ec761"
  },
  {
   "cell_type": "code",
   "execution_count": 267,
   "outputs": [
    {
     "data": {
      "text/plain": "[('game', 30.55721189057097),\n ('team', 28.81541385536274),\n ('like', 27.880963215705588),\n ('year', 27.3154013693727),\n ('don', 25.993002073961122),\n ('know', 25.980732209617294),\n ('just', 25.498472063457278),\n ('think', 25.276905208763342),\n ('window', 24.08872014213688),\n ('games', 21.938746911155285),\n ('thanks', 21.22302451689207),\n ('time', 21.065804609712245),\n ('good', 21.056475539446414),\n ('does', 20.795041818869304),\n ('players', 19.029886083529593),\n ('use', 18.133972761035878),\n ('play', 17.5914301110468),\n ('season', 17.489935385470744),\n ('hockey', 17.123106074411094),\n ('server', 16.0242298941479)]"
     },
     "execution_count": 267,
     "metadata": {},
     "output_type": "execute_result"
    }
   ],
   "source": [
    "# train tf-idf stop\n",
    "\n",
    "vectorizer = CountVectorizer(max_features=10000, stop_words='english')\n",
    "dtm = vectorizer.fit_transform(train_bunch.data)\n",
    "tfidf = TfidfTransformer(use_idf=True).fit_transform(dtm)\n",
    "\n",
    "feature_names = vectorizer.get_feature_names_out()\n",
    "tfidf_values = tfidf.toarray().sum(axis=0)\n",
    "\n",
    "tf_idf_stop = get_20_freq_words_idf(feature_names, tfidf_values)\n",
    "df_train['TF-IDF', 'Со стоп-словами'] = tf_idf_stop\n",
    "tf_idf_stop"
   ],
   "metadata": {
    "collapsed": false,
    "ExecuteTime": {
     "end_time": "2023-11-19T10:19:41.871703700Z",
     "start_time": "2023-11-19T10:19:41.561334200Z"
    }
   },
   "id": "71988012f30058f0"
  },
  {
   "cell_type": "code",
   "execution_count": 268,
   "outputs": [
    {
     "data": {
      "text/plain": "[('the', 8125),\n ('to', 4241),\n ('and', 3009),\n ('of', 2763),\n ('in', 2552),\n ('is', 2144),\n ('that', 1980),\n ('it', 1830),\n ('for', 1679),\n ('you', 1380),\n ('on', 1310),\n ('this', 1245),\n ('with', 1044),\n ('have', 1040),\n ('if', 944),\n ('be', 941),\n ('was', 926),\n ('or', 924),\n ('not', 892),\n ('but', 871)]"
     },
     "execution_count": 268,
     "metadata": {},
     "output_type": "execute_result"
    }
   ],
   "source": [
    "# test count\n",
    "vect = CountVectorizer(max_features=10000)\n",
    "dtm = vect.fit_transform(test_bunch.data)\n",
    "count_test_column = get_20_freq_words(vect, dtm)\n",
    "df_test['Count', 'Без стоп-слов'] = count_test_column\n",
    "count_test_column"
   ],
   "metadata": {
    "collapsed": false,
    "ExecuteTime": {
     "end_time": "2023-11-19T10:19:42.037963Z",
     "start_time": "2023-11-19T10:19:41.876206900Z"
    }
   },
   "id": "b22be4e3c8eb4d34"
  },
  {
   "cell_type": "code",
   "execution_count": 269,
   "outputs": [
    {
     "data": {
      "text/plain": "[('game', 605),\n ('dos', 519),\n ('don', 432),\n ('like', 349),\n ('just', 336),\n ('use', 321),\n ('time', 317),\n ('windows', 315),\n ('team', 304),\n ('25', 294),\n ('think', 282),\n ('year', 281),\n ('games', 270),\n ('know', 270),\n ('10', 260),\n ('window', 230),\n ('server', 220),\n ('file', 206),\n ('make', 205),\n ('good', 202)]"
     },
     "execution_count": 269,
     "metadata": {},
     "output_type": "execute_result"
    }
   ],
   "source": [
    "# test count stop\n",
    "\n",
    "vect = CountVectorizer(max_features=10000, stop_words='english')\n",
    "dtm = vect.fit_transform(test_bunch.data)\n",
    "count_column_stop = get_20_freq_words(vect, dtm)\n",
    "df_test['Count', 'Со стоп-словами'] = count_column_stop\n",
    "count_column_stop"
   ],
   "metadata": {
    "collapsed": false,
    "ExecuteTime": {
     "end_time": "2023-11-19T10:19:42.204697300Z",
     "start_time": "2023-11-19T10:19:42.037963Z"
    }
   },
   "id": "3b84817ae466ad7f"
  },
  {
   "cell_type": "code",
   "execution_count": 270,
   "outputs": [
    {
     "data": {
      "text/plain": "[('the', 388.19570382704524),\n ('to', 203.01933538943433),\n ('and', 135.44096301144648),\n ('of', 127.26078196096324),\n ('in', 123.03862800627307),\n ('is', 106.10502668837346),\n ('it', 97.61568506173221),\n ('that', 94.55469727290858),\n ('for', 77.47652053349819),\n ('on', 65.13454482147723),\n ('you', 61.12206519898555),\n ('this', 59.416586959842355),\n ('have', 53.33142911610357),\n ('he', 48.57608623328895),\n ('with', 48.380398864520345),\n ('but', 48.143361122840766),\n ('was', 47.90164582974453),\n ('not', 46.56227772713667),\n ('be', 46.025158234508034),\n ('if', 43.8648196202673)]"
     },
     "execution_count": 270,
     "metadata": {},
     "output_type": "execute_result"
    }
   ],
   "source": [
    "# test tf\n",
    "\n",
    "vectorizer = CountVectorizer(max_features=10000)\n",
    "dtm = vectorizer.fit_transform(test_bunch.data)\n",
    "tfidf = TfidfTransformer(use_idf=False).fit_transform(dtm)\n",
    "\n",
    "feature_names = vectorizer.get_feature_names_out()\n",
    "tfidf_values = tfidf.toarray().sum(axis=0)\n",
    "\n",
    "tf_column_test = get_20_freq_words_idf(feature_names, tfidf_values)\n",
    "df_test['TF', 'Без стоп-слов'] = tf_column_test\n",
    "tf_column_test"
   ],
   "metadata": {
    "collapsed": false,
    "ExecuteTime": {
     "end_time": "2023-11-19T10:19:42.419358400Z",
     "start_time": "2023-11-19T10:19:42.220364700Z"
    }
   },
   "id": "6b7ef30e19c8378d"
  },
  {
   "cell_type": "code",
   "execution_count": 271,
   "outputs": [
    {
     "data": {
      "text/plain": "[('game', 55.35968033343396),\n ('don', 38.15044738570613),\n ('like', 35.205172019829035),\n ('just', 34.328123139106076),\n ('think', 29.786544763140988),\n ('know', 29.433164060511334),\n ('games', 28.94814382176937),\n ('time', 28.65709850103665),\n ('team', 27.00327166963311),\n ('year', 24.240307796853752),\n ('does', 23.091862495551748),\n ('thanks', 19.721712189483906),\n ('good', 19.614584707858924),\n ('baseball', 19.39262939380386),\n ('use', 19.19725192331969),\n ('way', 18.115307802883056),\n ('did', 17.952251306299022),\n ('ve', 17.94233444024097),\n ('hockey', 17.686119226431057),\n ('really', 16.820040021669158)]"
     },
     "execution_count": 271,
     "metadata": {},
     "output_type": "execute_result"
    }
   ],
   "source": [
    "# test tf stop\n",
    "\n",
    "vectorizer = CountVectorizer(max_features=10000, stop_words='english')\n",
    "dtm = vectorizer.fit_transform(test_bunch.data)\n",
    "tfidf = TfidfTransformer(use_idf=False).fit_transform(dtm)\n",
    "\n",
    "feature_names = vectorizer.get_feature_names_out()\n",
    "tfidf_values = tfidf.toarray().sum(axis=0)\n",
    "\n",
    "tf_column_stop_test = get_20_freq_words_idf(feature_names, tfidf_values)\n",
    "df_test['TF', 'Со стоп-словами'] = tf_column_stop_test\n",
    "tf_column_stop_test"
   ],
   "metadata": {
    "collapsed": false,
    "ExecuteTime": {
     "end_time": "2023-11-19T10:19:42.644480500Z",
     "start_time": "2023-11-19T10:19:42.481868500Z"
    }
   },
   "id": "1b7e907ac354ec99"
  },
  {
   "cell_type": "code",
   "execution_count": 272,
   "outputs": [
    {
     "data": {
      "text/plain": "[('the', 140.30113641970493),\n ('to', 79.53586144681118),\n ('and', 56.99451270506691),\n ('of', 55.27159601479053),\n ('in', 52.39293666308899),\n ('is', 48.310687059760724),\n ('that', 48.16799949109908),\n ('it', 47.13850839985433),\n ('for', 37.3901906909972),\n ('you', 36.762157024970904),\n ('he', 35.43897954887522),\n ('on', 33.9389379350505),\n ('this', 32.40886806943489),\n ('was', 31.237655377296534),\n ('have', 29.87915764367108),\n ('with', 27.752923300677498),\n ('be', 27.394383932350557),\n ('not', 27.23492650564159),\n ('but', 26.901540501389718),\n ('if', 26.13984301917541)]"
     },
     "execution_count": 272,
     "metadata": {},
     "output_type": "execute_result"
    }
   ],
   "source": [
    "# test tf-idf\n",
    "\n",
    "vectorizer = CountVectorizer(max_features=10000)\n",
    "dtm = vectorizer.fit_transform(test_bunch.data)\n",
    "tfidf = TfidfTransformer(use_idf=True).fit_transform(dtm)\n",
    "\n",
    "feature_names = vectorizer.get_feature_names_out()\n",
    "tfidf_values = tfidf.toarray().sum(axis=0)\n",
    "\n",
    "tf_idf_test = get_20_freq_words_idf(feature_names, tfidf_values)\n",
    "df_test['TF-IDF', 'Без стоп-слов'] = tf_idf_test\n",
    "tf_idf_test"
   ],
   "metadata": {
    "collapsed": false,
    "ExecuteTime": {
     "end_time": "2023-11-19T10:19:42.869098Z",
     "start_time": "2023-11-19T10:19:42.660118Z"
    }
   },
   "id": "f86d3dc3aaa10e22"
  },
  {
   "cell_type": "code",
   "execution_count": 273,
   "outputs": [
    {
     "data": {
      "text/plain": "[('game', 29.55200964153811),\n ('don', 20.119458203241464),\n ('like', 18.42244901502211),\n ('games', 18.374855394115595),\n ('just', 17.747367300014403),\n ('think', 16.700532672754676),\n ('team', 16.438774847774035),\n ('know', 16.043448881928967),\n ('time', 15.67295845607844),\n ('year', 14.959221513762234),\n ('does', 14.183153289591425),\n ('baseball', 13.800171778669297),\n ('thanks', 12.830586815959304),\n ('hockey', 12.649372505582647),\n ('good', 12.223839804874926),\n ('did', 11.84254390086542),\n ('ve', 11.584730948998143),\n ('use', 11.429258902553467),\n ('really', 11.114383277933392),\n ('way', 10.959152927237552)]"
     },
     "execution_count": 273,
     "metadata": {},
     "output_type": "execute_result"
    }
   ],
   "source": [
    "# test tf-idf stop\n",
    "\n",
    "vectorizer = CountVectorizer(max_features=10000, stop_words='english')\n",
    "dtm = vectorizer.fit_transform(test_bunch.data)\n",
    "tfidf = TfidfTransformer(use_idf=True).fit_transform(dtm)\n",
    "\n",
    "feature_names = vectorizer.get_feature_names_out()\n",
    "tfidf_values = tfidf.toarray().sum(axis=0)\n",
    "\n",
    "tf_idf_stop_test = get_20_freq_words_idf(feature_names, tfidf_values)\n",
    "df_test['TF-IDF', 'Со стоп-словами'] = tf_idf_stop_test\n",
    "tf_idf_stop_test"
   ],
   "metadata": {
    "collapsed": false,
    "ExecuteTime": {
     "end_time": "2023-11-19T10:19:43.085497600Z",
     "start_time": "2023-11-19T10:19:42.869098Z"
    }
   },
   "id": "dd812a093cc076be"
  },
  {
   "cell_type": "code",
   "execution_count": 274,
   "outputs": [
    {
     "data": {
      "text/plain": "[('the', 15747),\n ('to', 7012),\n ('and', 5437),\n ('of', 5008),\n ('in', 4586),\n ('is', 4061),\n ('that', 3003),\n ('for', 2833),\n ('it', 2787),\n ('on', 2310),\n ('be', 2168),\n ('you', 2059),\n ('thi', 2006),\n ('have', 1793),\n ('with', 1708),\n ('are', 1674),\n ('he', 1524),\n ('if', 1522),\n ('not', 1467),\n ('as', 1453)]"
     },
     "execution_count": 274,
     "metadata": {},
     "output_type": "execute_result"
    }
   ],
   "source": [
    "# train count stemming\n",
    "\n",
    "vect = CountVectorizer(max_features=10000)\n",
    "dtm = vect.fit_transform(train_tokenized)\n",
    "count_column_stem = get_20_freq_words(vect, dtm)\n",
    "df_train_stem['Count', 'Без стоп-слов'] = count_column_stem\n",
    "count_column_stem"
   ],
   "metadata": {
    "collapsed": false,
    "ExecuteTime": {
     "end_time": "2023-11-19T10:19:43.318155Z",
     "start_time": "2023-11-19T10:19:43.177845500Z"
    }
   },
   "id": "30828956fa6dd71f"
  },
  {
   "cell_type": "code",
   "execution_count": 275,
   "outputs": [
    {
     "data": {
      "text/plain": "[('thi', 2006),\n ('wa', 1448),\n ('use', 1130),\n ('game', 1037),\n ('team', 912),\n ('ha', 851),\n ('year', 817),\n ('file', 777),\n ('hi', 735),\n ('play', 732),\n ('window', 724),\n ('like', 657),\n ('ani', 621),\n ('run', 615),\n ('program', 600),\n ('10', 580),\n ('doe', 555),\n ('player', 548),\n ('edu', 544),\n ('time', 523)]"
     },
     "execution_count": 275,
     "metadata": {},
     "output_type": "execute_result"
    }
   ],
   "source": [
    "# train count stemming stop\n",
    "vect = CountVectorizer(max_features=10000, stop_words='english')\n",
    "dtm = vect.fit_transform(train_tokenized)\n",
    "count_column_stem_stop = get_20_freq_words(vect, dtm)\n",
    "df_train_stem['Count', 'Со стоп-словами'] = count_column_stem_stop\n",
    "count_column_stem_stop"
   ],
   "metadata": {
    "collapsed": false,
    "ExecuteTime": {
     "end_time": "2023-11-19T10:19:43.545927500Z",
     "start_time": "2023-11-19T10:19:43.318155Z"
    }
   },
   "id": "270fd5e5326e83cb"
  },
  {
   "cell_type": "code",
   "execution_count": 276,
   "outputs": [
    {
     "data": {
      "text/plain": "[('the', 578.9869871527349),\n ('to', 277.5105984525885),\n ('and', 200.61616514687864),\n ('in', 178.80949351346268),\n ('of', 177.27317313531762),\n ('is', 153.25072611761695),\n ('that', 134.5826880157837),\n ('it', 121.64081767176049),\n ('for', 113.09805914145427),\n ('you', 95.88651067888384),\n ('thi', 90.29679169755546),\n ('have', 89.47994881568444),\n ('on', 89.07860484463126),\n ('be', 87.08348630671308),\n ('with', 70.17819208957434),\n ('he', 67.48619409990057),\n ('wa', 67.13462099292734),\n ('but', 64.20796545216623),\n ('do', 62.54094183567242),\n ('if', 61.19748178568055)]"
     },
     "execution_count": 276,
     "metadata": {},
     "output_type": "execute_result"
    }
   ],
   "source": [
    "# train tf stemming\n",
    "\n",
    "vectorizer = CountVectorizer(max_features=10000)\n",
    "dtm = vectorizer.fit_transform(train_tokenized)\n",
    "tfidf = TfidfTransformer(use_idf=False).fit_transform(dtm)\n",
    "\n",
    "feature_names = vectorizer.get_feature_names_out()\n",
    "tfidf_values = tfidf.toarray().sum(axis=0)\n",
    "\n",
    "tf_column_stem = get_20_freq_words_idf(feature_names, tfidf_values)\n",
    "df_train_stem['TF', 'Без стоп-слов'] = tf_column_stem\n",
    "tf_column_stem"
   ],
   "metadata": {
    "collapsed": false,
    "ExecuteTime": {
     "end_time": "2023-11-19T10:19:43.853349200Z",
     "start_time": "2023-11-19T10:19:43.545927500Z"
    }
   },
   "id": "a55db6279606006d"
  },
  {
   "cell_type": "code",
   "execution_count": 277,
   "outputs": [
    {
     "data": {
      "text/plain": "[('thi', 141.72279397640855),\n ('wa', 107.29607947837958),\n ('game', 77.4041331357221),\n ('ha', 62.647627160713306),\n ('team', 62.339132757617804),\n ('use', 60.14489569791756),\n ('hi', 59.43782499655776),\n ('ani', 57.279631549360936),\n ('year', 56.538602245273026),\n ('like', 54.51696717354279),\n ('play', 45.59072193731686),\n ('know', 45.53483739388707),\n ('doe', 45.42365375545463),\n ('think', 44.4952399710279),\n ('just', 43.87222983981162),\n ('window', 43.401407981085406),\n ('run', 42.12209183127551),\n ('player', 40.044459890660114),\n ('time', 36.87544216605833),\n ('onli', 36.00373220801312)]"
     },
     "execution_count": 277,
     "metadata": {},
     "output_type": "execute_result"
    }
   ],
   "source": [
    "# train tf stemming stop\n",
    "\n",
    "vectorizer = CountVectorizer(max_features=10000, stop_words='english')\n",
    "dtm = vectorizer.fit_transform(train_tokenized)\n",
    "tfidf = TfidfTransformer(use_idf=False).fit_transform(dtm)\n",
    "\n",
    "feature_names = vectorizer.get_feature_names_out()\n",
    "tfidf_values = tfidf.toarray().sum(axis=0)\n",
    "\n",
    "tf_column_stem_stop = get_20_freq_words_idf(feature_names, tfidf_values)\n",
    "df_train_stem['TF', 'Со стоп-словами'] = tf_column_stem_stop\n",
    "tf_column_stem_stop"
   ],
   "metadata": {
    "collapsed": false,
    "ExecuteTime": {
     "end_time": "2023-11-19T10:19:44.147181100Z",
     "start_time": "2023-11-19T10:19:43.892473700Z"
    }
   },
   "id": "35f0b3fbe39e72ce"
  },
  {
   "cell_type": "code",
   "execution_count": 278,
   "outputs": [
    {
     "data": {
      "text/plain": "[('the', 215.27647742894334),\n ('to', 114.49060106699532),\n ('and', 87.69641536592607),\n ('of', 83.72973399779124),\n ('in', 82.02034876038448),\n ('is', 74.800742623246),\n ('that', 68.2059599251459),\n ('it', 63.377601730896856),\n ('you', 57.86497701244651),\n ('for', 56.681781334430156),\n ('he', 52.701288473690965),\n ('have', 50.23419071800302),\n ('on', 49.207504287444486),\n ('thi', 48.988062517955576),\n ('be', 48.987493499956045),\n ('wa', 46.48640038163983),\n ('with', 41.577284328675944),\n ('do', 40.25009158646201),\n ('they', 39.95380064531452),\n ('are', 38.934938887306956)]"
     },
     "execution_count": 278,
     "metadata": {},
     "output_type": "execute_result"
    }
   ],
   "source": [
    "# train tf-idf stemming\n",
    "\n",
    "vectorizer = CountVectorizer(max_features=10000)\n",
    "dtm = vectorizer.fit_transform(train_tokenized)\n",
    "tfidf = TfidfTransformer(use_idf=True).fit_transform(dtm)\n",
    "\n",
    "feature_names = vectorizer.get_feature_names_out()\n",
    "tfidf_values = tfidf.toarray().sum(axis=0)\n",
    "\n",
    "tf_idf_column = get_20_freq_words_idf(feature_names, tfidf_values)\n",
    "df_train_stem['TF-IDF', 'Без стоп-слов'] = tf_idf_column\n",
    "tf_idf_column"
   ],
   "metadata": {
    "collapsed": false,
    "ExecuteTime": {
     "end_time": "2023-11-19T10:19:44.463925400Z",
     "start_time": "2023-11-19T10:19:44.162814Z"
    }
   },
   "id": "f27686616f3d7348"
  },
  {
   "cell_type": "code",
   "execution_count": 279,
   "outputs": [
    {
     "data": {
      "text/plain": "[('the', 215.27647742894334),\n ('to', 114.49060106699532),\n ('and', 87.69641536592607),\n ('of', 83.72973399779124),\n ('in', 82.02034876038448),\n ('is', 74.800742623246),\n ('that', 68.2059599251459),\n ('it', 63.377601730896856),\n ('you', 57.86497701244651),\n ('for', 56.681781334430156),\n ('he', 52.701288473690965),\n ('have', 50.23419071800302),\n ('on', 49.207504287444486),\n ('thi', 48.988062517955576),\n ('be', 48.987493499956045),\n ('wa', 46.48640038163983),\n ('with', 41.577284328675944),\n ('do', 40.25009158646201),\n ('they', 39.95380064531452),\n ('are', 38.934938887306956)]"
     },
     "execution_count": 279,
     "metadata": {},
     "output_type": "execute_result"
    }
   ],
   "source": [
    "# train tf-idf stemming stop\n",
    "\n",
    "vectorizer = CountVectorizer(max_features=10000)\n",
    "dtm = vectorizer.fit_transform(train_tokenized)\n",
    "tfidf = TfidfTransformer(use_idf=True).fit_transform(dtm)\n",
    "\n",
    "feature_names = vectorizer.get_feature_names_out()\n",
    "tfidf_values = tfidf.toarray().sum(axis=0)\n",
    "\n",
    "tf_idf_column_stop = get_20_freq_words_idf(feature_names, tfidf_values)\n",
    "df_train_stem['TF-IDF', 'Со стоп-словами'] = tf_idf_column_stop\n",
    "tf_idf_column_stop"
   ],
   "metadata": {
    "collapsed": false,
    "ExecuteTime": {
     "end_time": "2023-11-19T10:19:44.791889600Z",
     "start_time": "2023-11-19T10:19:44.577818500Z"
    }
   },
   "id": "560dd8d441d45180"
  },
  {
   "cell_type": "code",
   "execution_count": 280,
   "outputs": [
    {
     "data": {
      "text/plain": "[('the', 8123),\n ('to', 4246),\n ('and', 3009),\n ('of', 2764),\n ('in', 2552),\n ('is', 2216),\n ('that', 1984),\n ('it', 1905),\n ('for', 1679),\n ('you', 1379),\n ('on', 1316),\n ('thi', 1244),\n ('have', 1146),\n ('be', 1056),\n ('with', 1044),\n ('wa', 977),\n ('if', 944),\n ('not', 932),\n ('or', 924),\n ('do', 880)]"
     },
     "execution_count": 280,
     "metadata": {},
     "output_type": "execute_result"
    }
   ],
   "source": [
    "# test count stemming\n",
    "\n",
    "vect = CountVectorizer(max_features=10000)\n",
    "dtm = vect.fit_transform(test_tokenized)\n",
    "count_column_stem_test = get_20_freq_words(vect, dtm)\n",
    "df_test_stem['Count', 'Без стоп-слов'] = count_column_stem_test\n",
    "count_column_stem_test"
   ],
   "metadata": {
    "collapsed": false,
    "ExecuteTime": {
     "end_time": "2023-11-19T10:19:44.953681600Z",
     "start_time": "2023-11-19T10:19:44.795054700Z"
    }
   },
   "id": "94a9ec96bfed6764"
  },
  {
   "cell_type": "code",
   "execution_count": 281,
   "outputs": [
    {
     "data": {
      "text/plain": "[('thi', 1244),\n ('wa', 977),\n ('game', 870),\n ('use', 652),\n ('hi', 479),\n ('window', 433),\n ('ha', 431),\n ('dos', 417),\n ('ani', 404),\n ('run', 389),\n ('year', 388),\n ('like', 379),\n ('team', 375),\n ('time', 359),\n ('just', 337),\n ('doe', 318),\n ('think', 310),\n ('player', 306),\n ('play', 304),\n ('onli', 301)]"
     },
     "execution_count": 281,
     "metadata": {},
     "output_type": "execute_result"
    }
   ],
   "source": [
    "# test count stemming stop\n",
    "\n",
    "vect = CountVectorizer(max_features=10000, stop_words='english')\n",
    "dtm = vect.fit_transform(test_tokenized)\n",
    "count_column_stem_stop_test = get_20_freq_words(vect, dtm)\n",
    "df_test_stem['Count', 'Со стоп-словами'] = count_column_stem_stop_test\n",
    "count_column_stem_stop_test"
   ],
   "metadata": {
    "collapsed": false,
    "ExecuteTime": {
     "end_time": "2023-11-19T10:19:45.134825900Z",
     "start_time": "2023-11-19T10:19:44.953681600Z"
    }
   },
   "id": "56e916a6da2698c3"
  },
  {
   "cell_type": "code",
   "execution_count": 282,
   "outputs": [
    {
     "data": {
      "text/plain": "[('the', 381.61723786791123),\n ('to', 199.5821221490817),\n ('and', 133.05603026649428),\n ('of', 125.04781738537288),\n ('in', 120.91309421036907),\n ('is', 107.90773267419995),\n ('it', 99.96447529032932),\n ('that', 92.99129664614327),\n ('for', 76.11968441083106),\n ('on', 64.00897742734699),\n ('you', 59.99484538073765),\n ('have', 58.37687581833593),\n ('thi', 58.234131281067995),\n ('be', 51.28218160795185),\n ('wa', 49.252528830945565),\n ('not', 47.95830662939933),\n ('he', 47.80837384406617),\n ('with', 47.532592464961006),\n ('but', 47.29122334861563),\n ('game', 46.98806355389855)]"
     },
     "execution_count": 282,
     "metadata": {},
     "output_type": "execute_result"
    }
   ],
   "source": [
    "# test tf stemming\n",
    "\n",
    "vectorizer = CountVectorizer(max_features=10000)\n",
    "dtm = vectorizer.fit_transform(test_tokenized)\n",
    "tfidf = TfidfTransformer(use_idf=False).fit_transform(dtm)\n",
    "\n",
    "feature_names = vectorizer.get_feature_names_out()\n",
    "tfidf_values = tfidf.toarray().sum(axis=0)\n",
    "\n",
    "tf_column_stem_test = get_20_freq_words_idf(feature_names, tfidf_values)\n",
    "df_test_stem['TF', 'Без стоп-слов'] = tf_column_stem_test\n",
    "tf_column_stem_test"
   ],
   "metadata": {
    "collapsed": false,
    "ExecuteTime": {
     "end_time": "2023-11-19T10:19:45.355816800Z",
     "start_time": "2023-11-19T10:19:45.131264300Z"
    }
   },
   "id": "c77106b92ee9a8e8"
  },
  {
   "cell_type": "code",
   "execution_count": 283,
   "outputs": [
    {
     "data": {
      "text/plain": "[('thi', 93.27440959800963),\n ('wa', 79.8682109176536),\n ('game', 76.88725169280045),\n ('hi', 43.0887412746446),\n ('use', 40.447015556149815),\n ('ha', 38.83926480239683),\n ('ani', 38.124190402485624),\n ('like', 34.54103012398732),\n ('year', 32.458925202858524),\n ('just', 31.7396596469489),\n ('doe', 31.018407132150937),\n ('team', 30.32434520439766),\n ('know', 29.68349324863127),\n ('time', 29.665787894946952),\n ('think', 29.632726492933937),\n ('play', 25.173256393356308),\n ('did', 24.69744214110062),\n ('run', 24.63068033842519),\n ('onli', 24.235961728890253),\n ('window', 23.090369109795542)]"
     },
     "execution_count": 283,
     "metadata": {},
     "output_type": "execute_result"
    }
   ],
   "source": [
    "# test tf stemming stop\n",
    "\n",
    "vectorizer = CountVectorizer(max_features=10000, stop_words='english')\n",
    "dtm = vectorizer.fit_transform(test_tokenized)\n",
    "tfidf = TfidfTransformer(use_idf=False).fit_transform(dtm)\n",
    "\n",
    "feature_names = vectorizer.get_feature_names_out()\n",
    "tfidf_values = tfidf.toarray().sum(axis=0)\n",
    "\n",
    "tf_column_stem_stop_test = get_20_freq_words_idf(feature_names, tfidf_values)\n",
    "df_test_stem['TF', 'Со стоп-словами'] = tf_column_stem_stop_test\n",
    "tf_column_stem_stop_test"
   ],
   "metadata": {
    "collapsed": false,
    "ExecuteTime": {
     "end_time": "2023-11-19T10:19:45.569231100Z",
     "start_time": "2023-11-19T10:19:45.387077300Z"
    }
   },
   "id": "c9412eab05dc3367"
  },
  {
   "cell_type": "code",
   "execution_count": 284,
   "outputs": [
    {
     "data": {
      "text/plain": "[('the', 142.30736233271156),\n ('to', 80.8415255195825),\n ('and', 57.75737273696659),\n ('of', 55.919653319291164),\n ('in', 53.054633702797396),\n ('is', 50.28326657972924),\n ('it', 49.218057306394606),\n ('that', 48.83455932774926),\n ('for', 38.03878447829304),\n ('you', 37.268248972423386),\n ('he', 35.970994983076906),\n ('game', 35.10700042982108),\n ('on', 34.38324956592447),\n ('wa', 32.924298462463874),\n ('have', 32.828292294103306),\n ('thi', 32.758945153148524),\n ('be', 30.305989816973778),\n ('not', 28.33920610056298),\n ('with', 28.110970470103823),\n ('but', 27.312131093533925)]"
     },
     "execution_count": 284,
     "metadata": {},
     "output_type": "execute_result"
    }
   ],
   "source": [
    "# test tf-idf stemming\n",
    "\n",
    "vectorizer = CountVectorizer(max_features=10000)\n",
    "dtm = vectorizer.fit_transform(test_tokenized)\n",
    "tfidf = TfidfTransformer(use_idf=True).fit_transform(dtm)\n",
    "\n",
    "feature_names = vectorizer.get_feature_names_out()\n",
    "tfidf_values = tfidf.toarray().sum(axis=0)\n",
    "\n",
    "tf_idf_column_stem_test = get_20_freq_words_idf(feature_names, tfidf_values)\n",
    "df_test_stem['TF-IDF', 'Без стоп-слов'] = tf_idf_column_stem_test\n",
    "tf_idf_column_stem_test"
   ],
   "metadata": {
    "collapsed": false,
    "ExecuteTime": {
     "end_time": "2023-11-19T10:19:45.792696Z",
     "start_time": "2023-11-19T10:19:45.569231100Z"
    }
   },
   "id": "7db8359e050448d"
  },
  {
   "cell_type": "code",
   "execution_count": 285,
   "outputs": [
    {
     "data": {
      "text/plain": "[('thi', 93.27440959800963),\n ('wa', 79.8682109176536),\n ('game', 76.88725169280045),\n ('hi', 43.0887412746446),\n ('use', 40.447015556149815),\n ('ha', 38.83926480239683),\n ('ani', 38.124190402485624),\n ('like', 34.54103012398732),\n ('year', 32.458925202858524),\n ('just', 31.7396596469489),\n ('doe', 31.018407132150937),\n ('team', 30.32434520439766),\n ('know', 29.68349324863127),\n ('time', 29.665787894946952),\n ('think', 29.632726492933937),\n ('play', 25.173256393356308),\n ('did', 24.69744214110062),\n ('run', 24.63068033842519),\n ('onli', 24.235961728890253),\n ('window', 23.090369109795542)]"
     },
     "execution_count": 285,
     "metadata": {},
     "output_type": "execute_result"
    }
   ],
   "source": [
    "# test tf-idf stemming stop\n",
    "\n",
    "vectorizer = CountVectorizer(max_features=10000, stop_words='english')\n",
    "dtm = vectorizer.fit_transform(test_tokenized)\n",
    "tfidf = TfidfTransformer(use_idf=False).fit_transform(dtm)\n",
    "\n",
    "feature_names = vectorizer.get_feature_names_out()\n",
    "tfidf_values = tfidf.toarray().sum(axis=0)\n",
    "\n",
    "tf_idf_column_stem_stop_test = get_20_freq_words_idf(feature_names, tfidf_values)\n",
    "df_test_stem['TF-IDF', 'Со стоп-словами'] = tf_idf_column_stem_stop_test\n",
    "tf_idf_column_stem_stop_test"
   ],
   "metadata": {
    "collapsed": false,
    "ExecuteTime": {
     "end_time": "2023-11-19T10:19:46.001314400Z",
     "start_time": "2023-11-19T10:19:45.792696Z"
    }
   },
   "id": "58f454e7f444d2b2"
  },
  {
   "cell_type": "code",
   "execution_count": 286,
   "outputs": [
    {
     "data": {
      "text/plain": "           Count                                          TF  \\\n   Без стоп-слов Со стоп-словами               Без стоп-слов   \n0   (the, 15749)     (team, 679)    (the, 589.4840147265047)   \n1     (to, 7012)     (game, 633)     (to, 282.9780269588262)   \n2    (and, 5437)     (year, 629)   (and, 204.73973232096188)   \n3     (of, 5008)     (file, 586)    (in, 181.95100839538162)   \n4     (in, 4583)     (like, 582)    (of, 180.65052528156176)   \n5     (is, 3967)       (10, 580)    (is, 151.84620034325926)   \n6   (that, 3001)   (window, 573)  (that, 137.00256575679734)   \n7    (for, 2833)      (edu, 544)    (it, 117.94844823750009)   \n8     (it, 2597)      (use, 512)   (for, 115.18977217608628)   \n9     (on, 2307)      (don, 502)    (you, 97.72631057215757)   \n10   (you, 2059)     (just, 480)   (this, 91.94123274499883)   \n11  (this, 2006)     (time, 466)      (on, 90.5422925115908)   \n12    (be, 1979)      (new, 437)    (have, 83.8896451423794)   \n13  (with, 1708)     (good, 434)      (be, 79.4042202847746)   \n14  (have, 1652)    (think, 429)   (with, 71.58514903092679)   \n15   (are, 1634)     (play, 427)     (he, 68.66153507608368)   \n16    (he, 1524)   (season, 424)    (but, 65.45399825662439)   \n17    (if, 1522)  (program, 417)    (was, 64.89623089168877)   \n18    (as, 1453)    (games, 416)    (if, 62.427980984910434)   \n19   (but, 1438)       (11, 415)    (are, 60.70514880130126)   \n\n                                                      TF-IDF  \\\n                 Со стоп-словами               Без стоп-слов   \n0      (like, 54.59034267706766)   (the, 214.36387605105372)   \n1      (game, 52.65391186175265)    (to, 113.78471180759847)   \n2      (team, 50.23374990934391)     (and, 87.3636242603679)   \n3     (just, 47.839597900758605)      (of, 83.5045406913417)   \n4      (don, 46.667780397895164)     (in, 81.71464861099017)   \n5      (year, 46.66093560424913)     (is, 72.71056685601074)   \n6      (know, 45.38244213178166)   (that, 67.62424697731576)   \n7     (think, 44.39222815673452)     (it, 60.63404118880459)   \n8      (time, 36.49174208101818)    (you, 57.61452297032909)   \n9      (good, 35.62187455720601)   (for, 56.101337507476245)   \n10     (does, 34.76996463457239)     (he, 52.38043107664733)   \n11   (window, 34.42979502162383)       (on, 48.851522087063)   \n12  (thanks, 33.545069408891216)  (this, 48.544997294911376)   \n13    (games, 33.05600445722264)   (have, 46.82516631808222)   \n14     (use, 28.892433198026094)    (be, 45.129856667459215)   \n15  (players, 28.10991175375138)   (was, 44.487884132057964)   \n16    (play, 27.022282354210148)   (with, 41.34900152421049)   \n17   (season, 26.63108713464234)   (they, 39.69318535367601)   \n18     (way, 25.574312213576814)   (but, 38.536211763990764)   \n19     (did, 24.382018454599265)   (are, 38.119468736590726)   \n\n                                   \n                  Со стоп-словами  \n0       (game, 30.55721189057097)  \n1       (team, 28.81541385536274)  \n2      (like, 27.880963215705588)  \n3        (year, 27.3154013693727)  \n4       (don, 25.993002073961122)  \n5      (know, 25.980732209617294)  \n6      (just, 25.498472063457278)  \n7     (think, 25.276905208763342)  \n8     (window, 24.08872014213688)  \n9     (games, 21.938746911155285)  \n10    (thanks, 21.22302451689207)  \n11     (time, 21.065804609712245)  \n12     (good, 21.056475539446414)  \n13     (does, 20.795041818869304)  \n14  (players, 19.029886083529593)  \n15      (use, 18.133972761035878)  \n16       (play, 17.5914301110468)  \n17   (season, 17.489935385470744)  \n18   (hockey, 17.123106074411094)  \n19     (server, 16.0242298941479)  ",
      "text/html": "<div>\n<style scoped>\n    .dataframe tbody tr th:only-of-type {\n        vertical-align: middle;\n    }\n\n    .dataframe tbody tr th {\n        vertical-align: top;\n    }\n\n    .dataframe thead tr th {\n        text-align: left;\n    }\n</style>\n<table border=\"1\" class=\"dataframe\">\n  <thead>\n    <tr>\n      <th></th>\n      <th colspan=\"2\" halign=\"left\">Count</th>\n      <th colspan=\"2\" halign=\"left\">TF</th>\n      <th colspan=\"2\" halign=\"left\">TF-IDF</th>\n    </tr>\n    <tr>\n      <th></th>\n      <th>Без стоп-слов</th>\n      <th>Со стоп-словами</th>\n      <th>Без стоп-слов</th>\n      <th>Со стоп-словами</th>\n      <th>Без стоп-слов</th>\n      <th>Со стоп-словами</th>\n    </tr>\n  </thead>\n  <tbody>\n    <tr>\n      <th>0</th>\n      <td>(the, 15749)</td>\n      <td>(team, 679)</td>\n      <td>(the, 589.4840147265047)</td>\n      <td>(like, 54.59034267706766)</td>\n      <td>(the, 214.36387605105372)</td>\n      <td>(game, 30.55721189057097)</td>\n    </tr>\n    <tr>\n      <th>1</th>\n      <td>(to, 7012)</td>\n      <td>(game, 633)</td>\n      <td>(to, 282.9780269588262)</td>\n      <td>(game, 52.65391186175265)</td>\n      <td>(to, 113.78471180759847)</td>\n      <td>(team, 28.81541385536274)</td>\n    </tr>\n    <tr>\n      <th>2</th>\n      <td>(and, 5437)</td>\n      <td>(year, 629)</td>\n      <td>(and, 204.73973232096188)</td>\n      <td>(team, 50.23374990934391)</td>\n      <td>(and, 87.3636242603679)</td>\n      <td>(like, 27.880963215705588)</td>\n    </tr>\n    <tr>\n      <th>3</th>\n      <td>(of, 5008)</td>\n      <td>(file, 586)</td>\n      <td>(in, 181.95100839538162)</td>\n      <td>(just, 47.839597900758605)</td>\n      <td>(of, 83.5045406913417)</td>\n      <td>(year, 27.3154013693727)</td>\n    </tr>\n    <tr>\n      <th>4</th>\n      <td>(in, 4583)</td>\n      <td>(like, 582)</td>\n      <td>(of, 180.65052528156176)</td>\n      <td>(don, 46.667780397895164)</td>\n      <td>(in, 81.71464861099017)</td>\n      <td>(don, 25.993002073961122)</td>\n    </tr>\n    <tr>\n      <th>5</th>\n      <td>(is, 3967)</td>\n      <td>(10, 580)</td>\n      <td>(is, 151.84620034325926)</td>\n      <td>(year, 46.66093560424913)</td>\n      <td>(is, 72.71056685601074)</td>\n      <td>(know, 25.980732209617294)</td>\n    </tr>\n    <tr>\n      <th>6</th>\n      <td>(that, 3001)</td>\n      <td>(window, 573)</td>\n      <td>(that, 137.00256575679734)</td>\n      <td>(know, 45.38244213178166)</td>\n      <td>(that, 67.62424697731576)</td>\n      <td>(just, 25.498472063457278)</td>\n    </tr>\n    <tr>\n      <th>7</th>\n      <td>(for, 2833)</td>\n      <td>(edu, 544)</td>\n      <td>(it, 117.94844823750009)</td>\n      <td>(think, 44.39222815673452)</td>\n      <td>(it, 60.63404118880459)</td>\n      <td>(think, 25.276905208763342)</td>\n    </tr>\n    <tr>\n      <th>8</th>\n      <td>(it, 2597)</td>\n      <td>(use, 512)</td>\n      <td>(for, 115.18977217608628)</td>\n      <td>(time, 36.49174208101818)</td>\n      <td>(you, 57.61452297032909)</td>\n      <td>(window, 24.08872014213688)</td>\n    </tr>\n    <tr>\n      <th>9</th>\n      <td>(on, 2307)</td>\n      <td>(don, 502)</td>\n      <td>(you, 97.72631057215757)</td>\n      <td>(good, 35.62187455720601)</td>\n      <td>(for, 56.101337507476245)</td>\n      <td>(games, 21.938746911155285)</td>\n    </tr>\n    <tr>\n      <th>10</th>\n      <td>(you, 2059)</td>\n      <td>(just, 480)</td>\n      <td>(this, 91.94123274499883)</td>\n      <td>(does, 34.76996463457239)</td>\n      <td>(he, 52.38043107664733)</td>\n      <td>(thanks, 21.22302451689207)</td>\n    </tr>\n    <tr>\n      <th>11</th>\n      <td>(this, 2006)</td>\n      <td>(time, 466)</td>\n      <td>(on, 90.5422925115908)</td>\n      <td>(window, 34.42979502162383)</td>\n      <td>(on, 48.851522087063)</td>\n      <td>(time, 21.065804609712245)</td>\n    </tr>\n    <tr>\n      <th>12</th>\n      <td>(be, 1979)</td>\n      <td>(new, 437)</td>\n      <td>(have, 83.8896451423794)</td>\n      <td>(thanks, 33.545069408891216)</td>\n      <td>(this, 48.544997294911376)</td>\n      <td>(good, 21.056475539446414)</td>\n    </tr>\n    <tr>\n      <th>13</th>\n      <td>(with, 1708)</td>\n      <td>(good, 434)</td>\n      <td>(be, 79.4042202847746)</td>\n      <td>(games, 33.05600445722264)</td>\n      <td>(have, 46.82516631808222)</td>\n      <td>(does, 20.795041818869304)</td>\n    </tr>\n    <tr>\n      <th>14</th>\n      <td>(have, 1652)</td>\n      <td>(think, 429)</td>\n      <td>(with, 71.58514903092679)</td>\n      <td>(use, 28.892433198026094)</td>\n      <td>(be, 45.129856667459215)</td>\n      <td>(players, 19.029886083529593)</td>\n    </tr>\n    <tr>\n      <th>15</th>\n      <td>(are, 1634)</td>\n      <td>(play, 427)</td>\n      <td>(he, 68.66153507608368)</td>\n      <td>(players, 28.10991175375138)</td>\n      <td>(was, 44.487884132057964)</td>\n      <td>(use, 18.133972761035878)</td>\n    </tr>\n    <tr>\n      <th>16</th>\n      <td>(he, 1524)</td>\n      <td>(season, 424)</td>\n      <td>(but, 65.45399825662439)</td>\n      <td>(play, 27.022282354210148)</td>\n      <td>(with, 41.34900152421049)</td>\n      <td>(play, 17.5914301110468)</td>\n    </tr>\n    <tr>\n      <th>17</th>\n      <td>(if, 1522)</td>\n      <td>(program, 417)</td>\n      <td>(was, 64.89623089168877)</td>\n      <td>(season, 26.63108713464234)</td>\n      <td>(they, 39.69318535367601)</td>\n      <td>(season, 17.489935385470744)</td>\n    </tr>\n    <tr>\n      <th>18</th>\n      <td>(as, 1453)</td>\n      <td>(games, 416)</td>\n      <td>(if, 62.427980984910434)</td>\n      <td>(way, 25.574312213576814)</td>\n      <td>(but, 38.536211763990764)</td>\n      <td>(hockey, 17.123106074411094)</td>\n    </tr>\n    <tr>\n      <th>19</th>\n      <td>(but, 1438)</td>\n      <td>(11, 415)</td>\n      <td>(are, 60.70514880130126)</td>\n      <td>(did, 24.382018454599265)</td>\n      <td>(are, 38.119468736590726)</td>\n      <td>(server, 16.0242298941479)</td>\n    </tr>\n  </tbody>\n</table>\n</div>"
     },
     "execution_count": 286,
     "metadata": {},
     "output_type": "execute_result"
    }
   ],
   "source": [
    "df_train"
   ],
   "metadata": {
    "collapsed": false,
    "ExecuteTime": {
     "end_time": "2023-11-19T10:19:46.081082800Z",
     "start_time": "2023-11-19T10:19:46.001314400Z"
    }
   },
   "id": "81631c756c38fea1"
  },
  {
   "cell_type": "code",
   "execution_count": 287,
   "outputs": [
    {
     "data": {
      "text/plain": "           Count                                          TF  \\\n   Без стоп-слов Со стоп-словами               Без стоп-слов   \n0    (the, 8125)     (game, 605)   (the, 388.19570382704524)   \n1     (to, 4241)      (dos, 519)    (to, 203.01933538943433)   \n2    (and, 3009)      (don, 432)   (and, 135.44096301144648)   \n3     (of, 2763)     (like, 349)    (of, 127.26078196096324)   \n4     (in, 2552)     (just, 336)    (in, 123.03862800627307)   \n5     (is, 2144)      (use, 321)    (is, 106.10502668837346)   \n6   (that, 1980)     (time, 317)     (it, 97.61568506173221)   \n7     (it, 1830)  (windows, 315)   (that, 94.55469727290858)   \n8    (for, 1679)     (team, 304)    (for, 77.47652053349819)   \n9    (you, 1380)       (25, 294)     (on, 65.13454482147723)   \n10    (on, 1310)    (think, 282)    (you, 61.12206519898555)   \n11  (this, 1245)     (year, 281)  (this, 59.416586959842355)   \n12  (with, 1044)    (games, 270)   (have, 53.33142911610357)   \n13  (have, 1040)     (know, 270)     (he, 48.57608623328895)   \n14     (if, 944)       (10, 260)  (with, 48.380398864520345)   \n15     (be, 941)   (window, 230)   (but, 48.143361122840766)   \n16    (was, 926)   (server, 220)    (was, 47.90164582974453)   \n17     (or, 924)     (file, 206)    (not, 46.56227772713667)   \n18    (not, 892)     (make, 205)    (be, 46.025158234508034)   \n19    (but, 871)     (good, 202)      (if, 43.8648196202673)   \n\n                                                       TF-IDF  \\\n                  Со стоп-словами               Без стоп-слов   \n0       (game, 55.35968033343396)   (the, 140.30113641970493)   \n1        (don, 38.15044738570613)     (to, 79.53586144681118)   \n2      (like, 35.205172019829035)    (and, 56.99451270506691)   \n3      (just, 34.328123139106076)     (of, 55.27159601479053)   \n4     (think, 29.786544763140988)     (in, 52.39293666308899)   \n5      (know, 29.433164060511334)    (is, 48.310687059760724)   \n6      (games, 28.94814382176937)   (that, 48.16799949109908)   \n7       (time, 28.65709850103665)     (it, 47.13850839985433)   \n8       (team, 27.00327166963311)     (for, 37.3901906909972)   \n9      (year, 24.240307796853752)   (you, 36.762157024970904)   \n10     (does, 23.091862495551748)     (he, 35.43897954887522)   \n11   (thanks, 19.721712189483906)      (on, 33.9389379350505)   \n12     (good, 19.614584707858924)   (this, 32.40886806943489)   \n13  (baseball, 19.39262939380386)   (was, 31.237655377296534)   \n14       (use, 19.19725192331969)   (have, 29.87915764367108)   \n15      (way, 18.115307802883056)  (with, 27.752923300677498)   \n16      (did, 17.952251306299022)    (be, 27.394383932350557)   \n17        (ve, 17.94233444024097)    (not, 27.23492650564159)   \n18   (hockey, 17.686119226431057)   (but, 26.901540501389718)   \n19   (really, 16.820040021669158)     (if, 26.13984301917541)   \n\n                                    \n                   Со стоп-словами  \n0        (game, 29.55200964153811)  \n1        (don, 20.119458203241464)  \n2        (like, 18.42244901502211)  \n3      (games, 18.374855394115595)  \n4       (just, 17.747367300014403)  \n5      (think, 16.700532672754676)  \n6       (team, 16.438774847774035)  \n7       (know, 16.043448881928967)  \n8        (time, 15.67295845607844)  \n9       (year, 14.959221513762234)  \n10      (does, 14.183153289591425)  \n11  (baseball, 13.800171778669297)  \n12    (thanks, 12.830586815959304)  \n13    (hockey, 12.649372505582647)  \n14      (good, 12.223839804874926)  \n15        (did, 11.84254390086542)  \n16        (ve, 11.584730948998143)  \n17       (use, 11.429258902553467)  \n18    (really, 11.114383277933392)  \n19       (way, 10.959152927237552)  ",
      "text/html": "<div>\n<style scoped>\n    .dataframe tbody tr th:only-of-type {\n        vertical-align: middle;\n    }\n\n    .dataframe tbody tr th {\n        vertical-align: top;\n    }\n\n    .dataframe thead tr th {\n        text-align: left;\n    }\n</style>\n<table border=\"1\" class=\"dataframe\">\n  <thead>\n    <tr>\n      <th></th>\n      <th colspan=\"2\" halign=\"left\">Count</th>\n      <th colspan=\"2\" halign=\"left\">TF</th>\n      <th colspan=\"2\" halign=\"left\">TF-IDF</th>\n    </tr>\n    <tr>\n      <th></th>\n      <th>Без стоп-слов</th>\n      <th>Со стоп-словами</th>\n      <th>Без стоп-слов</th>\n      <th>Со стоп-словами</th>\n      <th>Без стоп-слов</th>\n      <th>Со стоп-словами</th>\n    </tr>\n  </thead>\n  <tbody>\n    <tr>\n      <th>0</th>\n      <td>(the, 8125)</td>\n      <td>(game, 605)</td>\n      <td>(the, 388.19570382704524)</td>\n      <td>(game, 55.35968033343396)</td>\n      <td>(the, 140.30113641970493)</td>\n      <td>(game, 29.55200964153811)</td>\n    </tr>\n    <tr>\n      <th>1</th>\n      <td>(to, 4241)</td>\n      <td>(dos, 519)</td>\n      <td>(to, 203.01933538943433)</td>\n      <td>(don, 38.15044738570613)</td>\n      <td>(to, 79.53586144681118)</td>\n      <td>(don, 20.119458203241464)</td>\n    </tr>\n    <tr>\n      <th>2</th>\n      <td>(and, 3009)</td>\n      <td>(don, 432)</td>\n      <td>(and, 135.44096301144648)</td>\n      <td>(like, 35.205172019829035)</td>\n      <td>(and, 56.99451270506691)</td>\n      <td>(like, 18.42244901502211)</td>\n    </tr>\n    <tr>\n      <th>3</th>\n      <td>(of, 2763)</td>\n      <td>(like, 349)</td>\n      <td>(of, 127.26078196096324)</td>\n      <td>(just, 34.328123139106076)</td>\n      <td>(of, 55.27159601479053)</td>\n      <td>(games, 18.374855394115595)</td>\n    </tr>\n    <tr>\n      <th>4</th>\n      <td>(in, 2552)</td>\n      <td>(just, 336)</td>\n      <td>(in, 123.03862800627307)</td>\n      <td>(think, 29.786544763140988)</td>\n      <td>(in, 52.39293666308899)</td>\n      <td>(just, 17.747367300014403)</td>\n    </tr>\n    <tr>\n      <th>5</th>\n      <td>(is, 2144)</td>\n      <td>(use, 321)</td>\n      <td>(is, 106.10502668837346)</td>\n      <td>(know, 29.433164060511334)</td>\n      <td>(is, 48.310687059760724)</td>\n      <td>(think, 16.700532672754676)</td>\n    </tr>\n    <tr>\n      <th>6</th>\n      <td>(that, 1980)</td>\n      <td>(time, 317)</td>\n      <td>(it, 97.61568506173221)</td>\n      <td>(games, 28.94814382176937)</td>\n      <td>(that, 48.16799949109908)</td>\n      <td>(team, 16.438774847774035)</td>\n    </tr>\n    <tr>\n      <th>7</th>\n      <td>(it, 1830)</td>\n      <td>(windows, 315)</td>\n      <td>(that, 94.55469727290858)</td>\n      <td>(time, 28.65709850103665)</td>\n      <td>(it, 47.13850839985433)</td>\n      <td>(know, 16.043448881928967)</td>\n    </tr>\n    <tr>\n      <th>8</th>\n      <td>(for, 1679)</td>\n      <td>(team, 304)</td>\n      <td>(for, 77.47652053349819)</td>\n      <td>(team, 27.00327166963311)</td>\n      <td>(for, 37.3901906909972)</td>\n      <td>(time, 15.67295845607844)</td>\n    </tr>\n    <tr>\n      <th>9</th>\n      <td>(you, 1380)</td>\n      <td>(25, 294)</td>\n      <td>(on, 65.13454482147723)</td>\n      <td>(year, 24.240307796853752)</td>\n      <td>(you, 36.762157024970904)</td>\n      <td>(year, 14.959221513762234)</td>\n    </tr>\n    <tr>\n      <th>10</th>\n      <td>(on, 1310)</td>\n      <td>(think, 282)</td>\n      <td>(you, 61.12206519898555)</td>\n      <td>(does, 23.091862495551748)</td>\n      <td>(he, 35.43897954887522)</td>\n      <td>(does, 14.183153289591425)</td>\n    </tr>\n    <tr>\n      <th>11</th>\n      <td>(this, 1245)</td>\n      <td>(year, 281)</td>\n      <td>(this, 59.416586959842355)</td>\n      <td>(thanks, 19.721712189483906)</td>\n      <td>(on, 33.9389379350505)</td>\n      <td>(baseball, 13.800171778669297)</td>\n    </tr>\n    <tr>\n      <th>12</th>\n      <td>(with, 1044)</td>\n      <td>(games, 270)</td>\n      <td>(have, 53.33142911610357)</td>\n      <td>(good, 19.614584707858924)</td>\n      <td>(this, 32.40886806943489)</td>\n      <td>(thanks, 12.830586815959304)</td>\n    </tr>\n    <tr>\n      <th>13</th>\n      <td>(have, 1040)</td>\n      <td>(know, 270)</td>\n      <td>(he, 48.57608623328895)</td>\n      <td>(baseball, 19.39262939380386)</td>\n      <td>(was, 31.237655377296534)</td>\n      <td>(hockey, 12.649372505582647)</td>\n    </tr>\n    <tr>\n      <th>14</th>\n      <td>(if, 944)</td>\n      <td>(10, 260)</td>\n      <td>(with, 48.380398864520345)</td>\n      <td>(use, 19.19725192331969)</td>\n      <td>(have, 29.87915764367108)</td>\n      <td>(good, 12.223839804874926)</td>\n    </tr>\n    <tr>\n      <th>15</th>\n      <td>(be, 941)</td>\n      <td>(window, 230)</td>\n      <td>(but, 48.143361122840766)</td>\n      <td>(way, 18.115307802883056)</td>\n      <td>(with, 27.752923300677498)</td>\n      <td>(did, 11.84254390086542)</td>\n    </tr>\n    <tr>\n      <th>16</th>\n      <td>(was, 926)</td>\n      <td>(server, 220)</td>\n      <td>(was, 47.90164582974453)</td>\n      <td>(did, 17.952251306299022)</td>\n      <td>(be, 27.394383932350557)</td>\n      <td>(ve, 11.584730948998143)</td>\n    </tr>\n    <tr>\n      <th>17</th>\n      <td>(or, 924)</td>\n      <td>(file, 206)</td>\n      <td>(not, 46.56227772713667)</td>\n      <td>(ve, 17.94233444024097)</td>\n      <td>(not, 27.23492650564159)</td>\n      <td>(use, 11.429258902553467)</td>\n    </tr>\n    <tr>\n      <th>18</th>\n      <td>(not, 892)</td>\n      <td>(make, 205)</td>\n      <td>(be, 46.025158234508034)</td>\n      <td>(hockey, 17.686119226431057)</td>\n      <td>(but, 26.901540501389718)</td>\n      <td>(really, 11.114383277933392)</td>\n    </tr>\n    <tr>\n      <th>19</th>\n      <td>(but, 871)</td>\n      <td>(good, 202)</td>\n      <td>(if, 43.8648196202673)</td>\n      <td>(really, 16.820040021669158)</td>\n      <td>(if, 26.13984301917541)</td>\n      <td>(way, 10.959152927237552)</td>\n    </tr>\n  </tbody>\n</table>\n</div>"
     },
     "execution_count": 287,
     "metadata": {},
     "output_type": "execute_result"
    }
   ],
   "source": [
    "df_test"
   ],
   "metadata": {
    "collapsed": false,
    "ExecuteTime": {
     "end_time": "2023-11-19T10:19:46.124013100Z",
     "start_time": "2023-11-19T10:19:46.036572600Z"
    }
   },
   "id": "c4696b5c59a0ad00"
  },
  {
   "cell_type": "code",
   "execution_count": 288,
   "outputs": [
    {
     "data": {
      "text/plain": "           Count                                         TF  \\\n   Без стоп-слов Со стоп-словами              Без стоп-слов   \n0   (the, 15747)     (thi, 2006)   (the, 578.9869871527349)   \n1     (to, 7012)      (wa, 1448)    (to, 277.5105984525885)   \n2    (and, 5437)     (use, 1130)  (and, 200.61616514687864)   \n3     (of, 5008)    (game, 1037)   (in, 178.80949351346268)   \n4     (in, 4586)     (team, 912)   (of, 177.27317313531762)   \n5     (is, 4061)       (ha, 851)   (is, 153.25072611761695)   \n6   (that, 3003)     (year, 817)  (that, 134.5826880157837)   \n7    (for, 2833)     (file, 777)   (it, 121.64081767176049)   \n8     (it, 2787)       (hi, 735)  (for, 113.09805914145427)   \n9     (on, 2310)     (play, 732)   (you, 95.88651067888384)   \n10    (be, 2168)   (window, 724)   (thi, 90.29679169755546)   \n11   (you, 2059)     (like, 657)  (have, 89.47994881568444)   \n12   (thi, 2006)      (ani, 621)    (on, 89.07860484463126)   \n13  (have, 1793)      (run, 615)    (be, 87.08348630671308)   \n14  (with, 1708)  (program, 600)  (with, 70.17819208957434)   \n15   (are, 1674)       (10, 580)    (he, 67.48619409990057)   \n16    (he, 1524)      (doe, 555)    (wa, 67.13462099292734)   \n17    (if, 1522)   (player, 548)   (but, 64.20796545216623)   \n18   (not, 1467)      (edu, 544)    (do, 62.54094183567242)   \n19    (as, 1453)     (time, 523)    (if, 61.19748178568055)   \n\n                                                      TF-IDF  \\\n                 Со стоп-словами               Без стоп-слов   \n0      (thi, 141.72279397640855)   (the, 215.27647742894334)   \n1       (wa, 107.29607947837958)    (to, 114.49060106699532)   \n2       (game, 77.4041331357221)    (and, 87.69641536592607)   \n3       (ha, 62.647627160713306)     (of, 83.72973399779124)   \n4     (team, 62.339132757617804)     (in, 82.02034876038448)   \n5       (use, 60.14489569791756)       (is, 74.800742623246)   \n6        (hi, 59.43782499655776)    (that, 68.2059599251459)   \n7      (ani, 57.279631549360936)    (it, 63.377601730896856)   \n8     (year, 56.538602245273026)    (you, 57.86497701244651)   \n9      (like, 54.51696717354279)   (for, 56.681781334430156)   \n10     (play, 45.59072193731686)    (he, 52.701288473690965)   \n11     (know, 45.53483739388707)   (have, 50.23419071800302)   \n12      (doe, 45.42365375545463)    (on, 49.207504287444486)   \n13     (think, 44.4952399710279)   (thi, 48.988062517955576)   \n14     (just, 43.87222983981162)    (be, 48.987493499956045)   \n15  (window, 43.401407981085406)     (wa, 46.48640038163983)   \n16      (run, 42.12209183127551)  (with, 41.577284328675944)   \n17  (player, 40.044459890660114)     (do, 40.25009158646201)   \n18     (time, 36.87544216605833)   (they, 39.95380064531452)   \n19     (onli, 36.00373220801312)   (are, 38.934938887306956)   \n\n                                \n               Со стоп-словами  \n0    (the, 215.27647742894334)  \n1     (to, 114.49060106699532)  \n2     (and, 87.69641536592607)  \n3      (of, 83.72973399779124)  \n4      (in, 82.02034876038448)  \n5        (is, 74.800742623246)  \n6     (that, 68.2059599251459)  \n7     (it, 63.377601730896856)  \n8     (you, 57.86497701244651)  \n9    (for, 56.681781334430156)  \n10    (he, 52.701288473690965)  \n11   (have, 50.23419071800302)  \n12    (on, 49.207504287444486)  \n13   (thi, 48.988062517955576)  \n14    (be, 48.987493499956045)  \n15     (wa, 46.48640038163983)  \n16  (with, 41.577284328675944)  \n17     (do, 40.25009158646201)  \n18   (they, 39.95380064531452)  \n19   (are, 38.934938887306956)  ",
      "text/html": "<div>\n<style scoped>\n    .dataframe tbody tr th:only-of-type {\n        vertical-align: middle;\n    }\n\n    .dataframe tbody tr th {\n        vertical-align: top;\n    }\n\n    .dataframe thead tr th {\n        text-align: left;\n    }\n</style>\n<table border=\"1\" class=\"dataframe\">\n  <thead>\n    <tr>\n      <th></th>\n      <th colspan=\"2\" halign=\"left\">Count</th>\n      <th colspan=\"2\" halign=\"left\">TF</th>\n      <th colspan=\"2\" halign=\"left\">TF-IDF</th>\n    </tr>\n    <tr>\n      <th></th>\n      <th>Без стоп-слов</th>\n      <th>Со стоп-словами</th>\n      <th>Без стоп-слов</th>\n      <th>Со стоп-словами</th>\n      <th>Без стоп-слов</th>\n      <th>Со стоп-словами</th>\n    </tr>\n  </thead>\n  <tbody>\n    <tr>\n      <th>0</th>\n      <td>(the, 15747)</td>\n      <td>(thi, 2006)</td>\n      <td>(the, 578.9869871527349)</td>\n      <td>(thi, 141.72279397640855)</td>\n      <td>(the, 215.27647742894334)</td>\n      <td>(the, 215.27647742894334)</td>\n    </tr>\n    <tr>\n      <th>1</th>\n      <td>(to, 7012)</td>\n      <td>(wa, 1448)</td>\n      <td>(to, 277.5105984525885)</td>\n      <td>(wa, 107.29607947837958)</td>\n      <td>(to, 114.49060106699532)</td>\n      <td>(to, 114.49060106699532)</td>\n    </tr>\n    <tr>\n      <th>2</th>\n      <td>(and, 5437)</td>\n      <td>(use, 1130)</td>\n      <td>(and, 200.61616514687864)</td>\n      <td>(game, 77.4041331357221)</td>\n      <td>(and, 87.69641536592607)</td>\n      <td>(and, 87.69641536592607)</td>\n    </tr>\n    <tr>\n      <th>3</th>\n      <td>(of, 5008)</td>\n      <td>(game, 1037)</td>\n      <td>(in, 178.80949351346268)</td>\n      <td>(ha, 62.647627160713306)</td>\n      <td>(of, 83.72973399779124)</td>\n      <td>(of, 83.72973399779124)</td>\n    </tr>\n    <tr>\n      <th>4</th>\n      <td>(in, 4586)</td>\n      <td>(team, 912)</td>\n      <td>(of, 177.27317313531762)</td>\n      <td>(team, 62.339132757617804)</td>\n      <td>(in, 82.02034876038448)</td>\n      <td>(in, 82.02034876038448)</td>\n    </tr>\n    <tr>\n      <th>5</th>\n      <td>(is, 4061)</td>\n      <td>(ha, 851)</td>\n      <td>(is, 153.25072611761695)</td>\n      <td>(use, 60.14489569791756)</td>\n      <td>(is, 74.800742623246)</td>\n      <td>(is, 74.800742623246)</td>\n    </tr>\n    <tr>\n      <th>6</th>\n      <td>(that, 3003)</td>\n      <td>(year, 817)</td>\n      <td>(that, 134.5826880157837)</td>\n      <td>(hi, 59.43782499655776)</td>\n      <td>(that, 68.2059599251459)</td>\n      <td>(that, 68.2059599251459)</td>\n    </tr>\n    <tr>\n      <th>7</th>\n      <td>(for, 2833)</td>\n      <td>(file, 777)</td>\n      <td>(it, 121.64081767176049)</td>\n      <td>(ani, 57.279631549360936)</td>\n      <td>(it, 63.377601730896856)</td>\n      <td>(it, 63.377601730896856)</td>\n    </tr>\n    <tr>\n      <th>8</th>\n      <td>(it, 2787)</td>\n      <td>(hi, 735)</td>\n      <td>(for, 113.09805914145427)</td>\n      <td>(year, 56.538602245273026)</td>\n      <td>(you, 57.86497701244651)</td>\n      <td>(you, 57.86497701244651)</td>\n    </tr>\n    <tr>\n      <th>9</th>\n      <td>(on, 2310)</td>\n      <td>(play, 732)</td>\n      <td>(you, 95.88651067888384)</td>\n      <td>(like, 54.51696717354279)</td>\n      <td>(for, 56.681781334430156)</td>\n      <td>(for, 56.681781334430156)</td>\n    </tr>\n    <tr>\n      <th>10</th>\n      <td>(be, 2168)</td>\n      <td>(window, 724)</td>\n      <td>(thi, 90.29679169755546)</td>\n      <td>(play, 45.59072193731686)</td>\n      <td>(he, 52.701288473690965)</td>\n      <td>(he, 52.701288473690965)</td>\n    </tr>\n    <tr>\n      <th>11</th>\n      <td>(you, 2059)</td>\n      <td>(like, 657)</td>\n      <td>(have, 89.47994881568444)</td>\n      <td>(know, 45.53483739388707)</td>\n      <td>(have, 50.23419071800302)</td>\n      <td>(have, 50.23419071800302)</td>\n    </tr>\n    <tr>\n      <th>12</th>\n      <td>(thi, 2006)</td>\n      <td>(ani, 621)</td>\n      <td>(on, 89.07860484463126)</td>\n      <td>(doe, 45.42365375545463)</td>\n      <td>(on, 49.207504287444486)</td>\n      <td>(on, 49.207504287444486)</td>\n    </tr>\n    <tr>\n      <th>13</th>\n      <td>(have, 1793)</td>\n      <td>(run, 615)</td>\n      <td>(be, 87.08348630671308)</td>\n      <td>(think, 44.4952399710279)</td>\n      <td>(thi, 48.988062517955576)</td>\n      <td>(thi, 48.988062517955576)</td>\n    </tr>\n    <tr>\n      <th>14</th>\n      <td>(with, 1708)</td>\n      <td>(program, 600)</td>\n      <td>(with, 70.17819208957434)</td>\n      <td>(just, 43.87222983981162)</td>\n      <td>(be, 48.987493499956045)</td>\n      <td>(be, 48.987493499956045)</td>\n    </tr>\n    <tr>\n      <th>15</th>\n      <td>(are, 1674)</td>\n      <td>(10, 580)</td>\n      <td>(he, 67.48619409990057)</td>\n      <td>(window, 43.401407981085406)</td>\n      <td>(wa, 46.48640038163983)</td>\n      <td>(wa, 46.48640038163983)</td>\n    </tr>\n    <tr>\n      <th>16</th>\n      <td>(he, 1524)</td>\n      <td>(doe, 555)</td>\n      <td>(wa, 67.13462099292734)</td>\n      <td>(run, 42.12209183127551)</td>\n      <td>(with, 41.577284328675944)</td>\n      <td>(with, 41.577284328675944)</td>\n    </tr>\n    <tr>\n      <th>17</th>\n      <td>(if, 1522)</td>\n      <td>(player, 548)</td>\n      <td>(but, 64.20796545216623)</td>\n      <td>(player, 40.044459890660114)</td>\n      <td>(do, 40.25009158646201)</td>\n      <td>(do, 40.25009158646201)</td>\n    </tr>\n    <tr>\n      <th>18</th>\n      <td>(not, 1467)</td>\n      <td>(edu, 544)</td>\n      <td>(do, 62.54094183567242)</td>\n      <td>(time, 36.87544216605833)</td>\n      <td>(they, 39.95380064531452)</td>\n      <td>(they, 39.95380064531452)</td>\n    </tr>\n    <tr>\n      <th>19</th>\n      <td>(as, 1453)</td>\n      <td>(time, 523)</td>\n      <td>(if, 61.19748178568055)</td>\n      <td>(onli, 36.00373220801312)</td>\n      <td>(are, 38.934938887306956)</td>\n      <td>(are, 38.934938887306956)</td>\n    </tr>\n  </tbody>\n</table>\n</div>"
     },
     "execution_count": 288,
     "metadata": {},
     "output_type": "execute_result"
    }
   ],
   "source": [
    "df_train_stem"
   ],
   "metadata": {
    "collapsed": false,
    "ExecuteTime": {
     "end_time": "2023-11-19T10:19:46.124013100Z",
     "start_time": "2023-11-19T10:19:46.065448200Z"
    }
   },
   "id": "4c52805459c410c9"
  },
  {
   "cell_type": "code",
   "execution_count": 289,
   "outputs": [
    {
     "data": {
      "text/plain": "           Count                                          TF  \\\n   Без стоп-слов Со стоп-словами               Без стоп-слов   \n0    (the, 8123)     (thi, 1244)   (the, 381.61723786791123)   \n1     (to, 4246)       (wa, 977)     (to, 199.5821221490817)   \n2    (and, 3009)     (game, 870)   (and, 133.05603026649428)   \n3     (of, 2764)      (use, 652)    (of, 125.04781738537288)   \n4     (in, 2552)       (hi, 479)    (in, 120.91309421036907)   \n5     (is, 2216)   (window, 433)    (is, 107.90773267419995)   \n6   (that, 1984)       (ha, 431)     (it, 99.96447529032932)   \n7     (it, 1905)      (dos, 417)   (that, 92.99129664614327)   \n8    (for, 1679)      (ani, 404)    (for, 76.11968441083106)   \n9    (you, 1379)      (run, 389)     (on, 64.00897742734699)   \n10    (on, 1316)     (year, 388)    (you, 59.99484538073765)   \n11   (thi, 1244)     (like, 379)   (have, 58.37687581833593)   \n12  (have, 1146)     (team, 375)   (thi, 58.234131281067995)   \n13    (be, 1056)     (time, 359)     (be, 51.28218160795185)   \n14  (with, 1044)     (just, 337)    (wa, 49.252528830945565)   \n15     (wa, 977)      (doe, 318)    (not, 47.95830662939933)   \n16     (if, 944)    (think, 310)     (he, 47.80837384406617)   \n17    (not, 932)   (player, 306)  (with, 47.532592464961006)   \n18     (or, 924)     (play, 304)    (but, 47.29122334861563)   \n19     (do, 880)     (onli, 301)   (game, 46.98806355389855)   \n\n                                                      TF-IDF  \\\n                 Со стоп-словами               Без стоп-слов   \n0       (thi, 93.27440959800963)   (the, 142.30736233271156)   \n1         (wa, 79.8682109176536)      (to, 80.8415255195825)   \n2      (game, 76.88725169280045)    (and, 57.75737273696659)   \n3         (hi, 43.0887412746446)    (of, 55.919653319291164)   \n4      (use, 40.447015556149815)    (in, 53.054633702797396)   \n5        (ha, 38.83926480239683)     (is, 50.28326657972924)   \n6      (ani, 38.124190402485624)    (it, 49.218057306394606)   \n7      (like, 34.54103012398732)   (that, 48.83455932774926)   \n8     (year, 32.458925202858524)    (for, 38.03878447829304)   \n9       (just, 31.7396596469489)   (you, 37.268248972423386)   \n10     (doe, 31.018407132150937)    (he, 35.970994983076906)   \n11     (team, 30.32434520439766)   (game, 35.10700042982108)   \n12     (know, 29.68349324863127)     (on, 34.38324956592447)   \n13    (time, 29.665787894946952)    (wa, 32.924298462463874)   \n14   (think, 29.632726492933937)  (have, 32.828292294103306)   \n15    (play, 25.173256393356308)   (thi, 32.758945153148524)   \n16      (did, 24.69744214110062)    (be, 30.305989816973778)   \n17      (run, 24.63068033842519)    (not, 28.33920610056298)   \n18    (onli, 24.235961728890253)  (with, 28.110970470103823)   \n19  (window, 23.090369109795542)   (but, 27.312131093533925)   \n\n                                  \n                 Со стоп-словами  \n0       (thi, 93.27440959800963)  \n1         (wa, 79.8682109176536)  \n2      (game, 76.88725169280045)  \n3         (hi, 43.0887412746446)  \n4      (use, 40.447015556149815)  \n5        (ha, 38.83926480239683)  \n6      (ani, 38.124190402485624)  \n7      (like, 34.54103012398732)  \n8     (year, 32.458925202858524)  \n9       (just, 31.7396596469489)  \n10     (doe, 31.018407132150937)  \n11     (team, 30.32434520439766)  \n12     (know, 29.68349324863127)  \n13    (time, 29.665787894946952)  \n14   (think, 29.632726492933937)  \n15    (play, 25.173256393356308)  \n16      (did, 24.69744214110062)  \n17      (run, 24.63068033842519)  \n18    (onli, 24.235961728890253)  \n19  (window, 23.090369109795542)  ",
      "text/html": "<div>\n<style scoped>\n    .dataframe tbody tr th:only-of-type {\n        vertical-align: middle;\n    }\n\n    .dataframe tbody tr th {\n        vertical-align: top;\n    }\n\n    .dataframe thead tr th {\n        text-align: left;\n    }\n</style>\n<table border=\"1\" class=\"dataframe\">\n  <thead>\n    <tr>\n      <th></th>\n      <th colspan=\"2\" halign=\"left\">Count</th>\n      <th colspan=\"2\" halign=\"left\">TF</th>\n      <th colspan=\"2\" halign=\"left\">TF-IDF</th>\n    </tr>\n    <tr>\n      <th></th>\n      <th>Без стоп-слов</th>\n      <th>Со стоп-словами</th>\n      <th>Без стоп-слов</th>\n      <th>Со стоп-словами</th>\n      <th>Без стоп-слов</th>\n      <th>Со стоп-словами</th>\n    </tr>\n  </thead>\n  <tbody>\n    <tr>\n      <th>0</th>\n      <td>(the, 8123)</td>\n      <td>(thi, 1244)</td>\n      <td>(the, 381.61723786791123)</td>\n      <td>(thi, 93.27440959800963)</td>\n      <td>(the, 142.30736233271156)</td>\n      <td>(thi, 93.27440959800963)</td>\n    </tr>\n    <tr>\n      <th>1</th>\n      <td>(to, 4246)</td>\n      <td>(wa, 977)</td>\n      <td>(to, 199.5821221490817)</td>\n      <td>(wa, 79.8682109176536)</td>\n      <td>(to, 80.8415255195825)</td>\n      <td>(wa, 79.8682109176536)</td>\n    </tr>\n    <tr>\n      <th>2</th>\n      <td>(and, 3009)</td>\n      <td>(game, 870)</td>\n      <td>(and, 133.05603026649428)</td>\n      <td>(game, 76.88725169280045)</td>\n      <td>(and, 57.75737273696659)</td>\n      <td>(game, 76.88725169280045)</td>\n    </tr>\n    <tr>\n      <th>3</th>\n      <td>(of, 2764)</td>\n      <td>(use, 652)</td>\n      <td>(of, 125.04781738537288)</td>\n      <td>(hi, 43.0887412746446)</td>\n      <td>(of, 55.919653319291164)</td>\n      <td>(hi, 43.0887412746446)</td>\n    </tr>\n    <tr>\n      <th>4</th>\n      <td>(in, 2552)</td>\n      <td>(hi, 479)</td>\n      <td>(in, 120.91309421036907)</td>\n      <td>(use, 40.447015556149815)</td>\n      <td>(in, 53.054633702797396)</td>\n      <td>(use, 40.447015556149815)</td>\n    </tr>\n    <tr>\n      <th>5</th>\n      <td>(is, 2216)</td>\n      <td>(window, 433)</td>\n      <td>(is, 107.90773267419995)</td>\n      <td>(ha, 38.83926480239683)</td>\n      <td>(is, 50.28326657972924)</td>\n      <td>(ha, 38.83926480239683)</td>\n    </tr>\n    <tr>\n      <th>6</th>\n      <td>(that, 1984)</td>\n      <td>(ha, 431)</td>\n      <td>(it, 99.96447529032932)</td>\n      <td>(ani, 38.124190402485624)</td>\n      <td>(it, 49.218057306394606)</td>\n      <td>(ani, 38.124190402485624)</td>\n    </tr>\n    <tr>\n      <th>7</th>\n      <td>(it, 1905)</td>\n      <td>(dos, 417)</td>\n      <td>(that, 92.99129664614327)</td>\n      <td>(like, 34.54103012398732)</td>\n      <td>(that, 48.83455932774926)</td>\n      <td>(like, 34.54103012398732)</td>\n    </tr>\n    <tr>\n      <th>8</th>\n      <td>(for, 1679)</td>\n      <td>(ani, 404)</td>\n      <td>(for, 76.11968441083106)</td>\n      <td>(year, 32.458925202858524)</td>\n      <td>(for, 38.03878447829304)</td>\n      <td>(year, 32.458925202858524)</td>\n    </tr>\n    <tr>\n      <th>9</th>\n      <td>(you, 1379)</td>\n      <td>(run, 389)</td>\n      <td>(on, 64.00897742734699)</td>\n      <td>(just, 31.7396596469489)</td>\n      <td>(you, 37.268248972423386)</td>\n      <td>(just, 31.7396596469489)</td>\n    </tr>\n    <tr>\n      <th>10</th>\n      <td>(on, 1316)</td>\n      <td>(year, 388)</td>\n      <td>(you, 59.99484538073765)</td>\n      <td>(doe, 31.018407132150937)</td>\n      <td>(he, 35.970994983076906)</td>\n      <td>(doe, 31.018407132150937)</td>\n    </tr>\n    <tr>\n      <th>11</th>\n      <td>(thi, 1244)</td>\n      <td>(like, 379)</td>\n      <td>(have, 58.37687581833593)</td>\n      <td>(team, 30.32434520439766)</td>\n      <td>(game, 35.10700042982108)</td>\n      <td>(team, 30.32434520439766)</td>\n    </tr>\n    <tr>\n      <th>12</th>\n      <td>(have, 1146)</td>\n      <td>(team, 375)</td>\n      <td>(thi, 58.234131281067995)</td>\n      <td>(know, 29.68349324863127)</td>\n      <td>(on, 34.38324956592447)</td>\n      <td>(know, 29.68349324863127)</td>\n    </tr>\n    <tr>\n      <th>13</th>\n      <td>(be, 1056)</td>\n      <td>(time, 359)</td>\n      <td>(be, 51.28218160795185)</td>\n      <td>(time, 29.665787894946952)</td>\n      <td>(wa, 32.924298462463874)</td>\n      <td>(time, 29.665787894946952)</td>\n    </tr>\n    <tr>\n      <th>14</th>\n      <td>(with, 1044)</td>\n      <td>(just, 337)</td>\n      <td>(wa, 49.252528830945565)</td>\n      <td>(think, 29.632726492933937)</td>\n      <td>(have, 32.828292294103306)</td>\n      <td>(think, 29.632726492933937)</td>\n    </tr>\n    <tr>\n      <th>15</th>\n      <td>(wa, 977)</td>\n      <td>(doe, 318)</td>\n      <td>(not, 47.95830662939933)</td>\n      <td>(play, 25.173256393356308)</td>\n      <td>(thi, 32.758945153148524)</td>\n      <td>(play, 25.173256393356308)</td>\n    </tr>\n    <tr>\n      <th>16</th>\n      <td>(if, 944)</td>\n      <td>(think, 310)</td>\n      <td>(he, 47.80837384406617)</td>\n      <td>(did, 24.69744214110062)</td>\n      <td>(be, 30.305989816973778)</td>\n      <td>(did, 24.69744214110062)</td>\n    </tr>\n    <tr>\n      <th>17</th>\n      <td>(not, 932)</td>\n      <td>(player, 306)</td>\n      <td>(with, 47.532592464961006)</td>\n      <td>(run, 24.63068033842519)</td>\n      <td>(not, 28.33920610056298)</td>\n      <td>(run, 24.63068033842519)</td>\n    </tr>\n    <tr>\n      <th>18</th>\n      <td>(or, 924)</td>\n      <td>(play, 304)</td>\n      <td>(but, 47.29122334861563)</td>\n      <td>(onli, 24.235961728890253)</td>\n      <td>(with, 28.110970470103823)</td>\n      <td>(onli, 24.235961728890253)</td>\n    </tr>\n    <tr>\n      <th>19</th>\n      <td>(do, 880)</td>\n      <td>(onli, 301)</td>\n      <td>(game, 46.98806355389855)</td>\n      <td>(window, 23.090369109795542)</td>\n      <td>(but, 27.312131093533925)</td>\n      <td>(window, 23.090369109795542)</td>\n    </tr>\n  </tbody>\n</table>\n</div>"
     },
     "execution_count": 289,
     "metadata": {},
     "output_type": "execute_result"
    }
   ],
   "source": [
    "df_test_stem"
   ],
   "metadata": {
    "collapsed": false,
    "ExecuteTime": {
     "end_time": "2023-11-19T10:19:46.170899400Z",
     "start_time": "2023-11-19T10:19:46.094133400Z"
    }
   },
   "id": "3dc34216c3fbcbb7"
  },
  {
   "cell_type": "code",
   "execution_count": 291,
   "outputs": [
    {
     "name": "stdout",
     "output_type": "stream",
     "text": [
      "Fitting 5 folds for each of 24 candidates, totalling 120 fits\n",
      "Best score: 0.929\n"
     ]
    },
    {
     "data": {
      "text/plain": "{'tfidf__use_idf': True,\n 'vect__max_features': None,\n 'vect__stop_words': 'english'}"
     },
     "execution_count": 291,
     "metadata": {},
     "output_type": "execute_result"
    }
   ],
   "source": [
    "# 8. Конвеер\n",
    "\n",
    "from sklearn.metrics import classification_report\n",
    "from sklearn.feature_extraction.text import CountVectorizer, TfidfTransformer\n",
    "from sklearn.naive_bayes import MultinomialNB\n",
    "from sklearn.model_selection import GridSearchCV\n",
    "from sklearn.pipeline import Pipeline\n",
    "\n",
    "pipeline = Pipeline([\n",
    "    ('vect', CountVectorizer()),\n",
    "    ('tfidf', TfidfTransformer()),\n",
    "    ('clf', MultinomialNB()),\n",
    "])\n",
    "\n",
    "parameters = {\n",
    "    'vect__max_features': (500, 1000, 2500, 5000, 10000, None),\n",
    "    'vect__stop_words': ('english', None),\n",
    "    'tfidf__use_idf': (True, False),\n",
    "}\n",
    "\n",
    "grid_search = GridSearchCV(pipeline, parameters, n_jobs=-1, verbose=1)\n",
    "\n",
    "grid_search.fit(train_bunch.data, train_bunch.target)\n",
    "\n",
    "print(\"Best score: %0.3f\" % grid_search.best_score_)\n",
    "grid_search.best_params_"
   ],
   "metadata": {
    "collapsed": false,
    "ExecuteTime": {
     "end_time": "2023-11-19T10:19:52.711638Z",
     "start_time": "2023-11-19T10:19:46.190613400Z"
    }
   },
   "id": "4619330976b5d265"
  },
  {
   "cell_type": "code",
   "execution_count": 292,
   "outputs": [
    {
     "name": "stdout",
     "output_type": "stream",
     "text": [
      "              precision    recall  f1-score   support\n",
      "\n",
      "           0       0.99      0.99      0.99       596\n",
      "           1       0.94      0.99      0.97       566\n",
      "           2       0.99      0.95      0.97       628\n",
      "\n",
      "    accuracy                           0.97      1790\n",
      "   macro avg       0.97      0.98      0.97      1790\n",
      "weighted avg       0.98      0.97      0.97      1790\n"
     ]
    }
   ],
   "source": [
    "print(classification_report(grid_search.predict(train_bunch.data), train_bunch.target))"
   ],
   "metadata": {
    "collapsed": false,
    "ExecuteTime": {
     "end_time": "2023-11-19T10:19:52.975146Z",
     "start_time": "2023-11-19T10:19:52.696003600Z"
    }
   },
   "id": "fdb27866190d8e42"
  },
  {
   "cell_type": "code",
   "execution_count": 293,
   "outputs": [
    {
     "name": "stdout",
     "output_type": "stream",
     "text": [
      "              precision    recall  f1-score   support\n",
      "\n",
      "           0       0.95      0.96      0.95       393\n",
      "           1       0.85      0.96      0.90       351\n",
      "           2       0.97      0.87      0.91       447\n",
      "\n",
      "    accuracy                           0.92      1191\n",
      "   macro avg       0.92      0.93      0.92      1191\n",
      "weighted avg       0.93      0.92      0.92      1191\n"
     ]
    }
   ],
   "source": [
    "print(classification_report(grid_search.predict(test_bunch.data), test_bunch.target))"
   ],
   "metadata": {
    "collapsed": false,
    "ExecuteTime": {
     "end_time": "2023-11-19T10:19:53.143031300Z",
     "start_time": "2023-11-19T10:19:52.975146Z"
    }
   },
   "id": "96b05ea0ce263203"
  },
  {
   "cell_type": "code",
   "execution_count": 294,
   "outputs": [
    {
     "name": "stdout",
     "output_type": "stream",
     "text": [
      "Fitting 5 folds for each of 24 candidates, totalling 120 fits\n",
      "Best score: 0.925\n"
     ]
    },
    {
     "data": {
      "text/plain": "{'tfidf__use_idf': True,\n 'vect__max_features': None,\n 'vect__stop_words': 'english'}"
     },
     "execution_count": 294,
     "metadata": {},
     "output_type": "execute_result"
    }
   ],
   "source": [
    "pipeline = Pipeline([\n",
    "    ('vect', CountVectorizer()),\n",
    "    ('tfidf', TfidfTransformer()),\n",
    "    ('clf', MultinomialNB()),\n",
    "])\n",
    "\n",
    "parameters = {\n",
    "    'vect__max_features': (500, 1000, 2500, 5000, 10000, None),\n",
    "    'vect__stop_words': ('english', None),\n",
    "    'tfidf__use_idf': (True, False),\n",
    "}\n",
    "\n",
    "grid_search = GridSearchCV(pipeline, parameters, n_jobs=-1, verbose=1)\n",
    "\n",
    "grid_search.fit(train_tokenized, train_bunch.target)\n",
    "\n",
    "print(\"Best score: %0.3f\" % grid_search.best_score_)\n",
    "grid_search.best_params_"
   ],
   "metadata": {
    "collapsed": false,
    "ExecuteTime": {
     "end_time": "2023-11-19T10:19:59.789931300Z",
     "start_time": "2023-11-19T10:19:53.142396Z"
    }
   },
   "id": "243966e4cc594f81"
  },
  {
   "cell_type": "code",
   "execution_count": 295,
   "outputs": [
    {
     "name": "stdout",
     "output_type": "stream",
     "text": [
      "              precision    recall  f1-score   support\n",
      "\n",
      "           0       0.99      0.99      0.99       593\n",
      "           1       0.94      0.99      0.97       566\n",
      "           2       0.99      0.94      0.97       631\n",
      "\n",
      "    accuracy                           0.97      1790\n",
      "   macro avg       0.97      0.98      0.97      1790\n",
      "weighted avg       0.98      0.97      0.97      1790\n"
     ]
    }
   ],
   "source": [
    "print(classification_report(grid_search.predict(train_tokenized), train_bunch.target))"
   ],
   "metadata": {
    "collapsed": false,
    "ExecuteTime": {
     "end_time": "2023-11-19T10:20:00.001773200Z",
     "start_time": "2023-11-19T10:19:59.789931300Z"
    }
   },
   "id": "b781b2a6d1edf943"
  },
  {
   "cell_type": "code",
   "execution_count": 296,
   "outputs": [
    {
     "name": "stdout",
     "output_type": "stream",
     "text": [
      "              precision    recall  f1-score   support\n",
      "\n",
      "           0       0.96      0.96      0.96       395\n",
      "           1       0.85      0.96      0.90       351\n",
      "           2       0.97      0.87      0.92       445\n",
      "\n",
      "    accuracy                           0.93      1191\n",
      "   macro avg       0.93      0.93      0.93      1191\n",
      "weighted avg       0.93      0.93      0.93      1191\n"
     ]
    }
   ],
   "source": [
    "print(classification_report(grid_search.predict(test_tokenized), test_bunch.target))"
   ],
   "metadata": {
    "collapsed": false,
    "ExecuteTime": {
     "end_time": "2023-11-19T10:20:00.163607200Z",
     "start_time": "2023-11-19T10:20:00.001773200Z"
    }
   },
   "id": "b5b1673270a66ea7"
  }
 ],
 "metadata": {
  "kernelspec": {
   "display_name": "Python 3",
   "language": "python",
   "name": "python3"
  },
  "language_info": {
   "codemirror_mode": {
    "name": "ipython",
    "version": 2
   },
   "file_extension": ".py",
   "mimetype": "text/x-python",
   "name": "python",
   "nbconvert_exporter": "python",
   "pygments_lexer": "ipython2",
   "version": "2.7.6"
  }
 },
 "nbformat": 4,
 "nbformat_minor": 5
}
